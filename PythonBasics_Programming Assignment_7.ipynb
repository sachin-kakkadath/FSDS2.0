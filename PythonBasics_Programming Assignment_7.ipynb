{
 "cells": [
  {
   "cell_type": "code",
   "execution_count": null,
   "id": "2e89bc9c",
   "metadata": {},
   "outputs": [],
   "source": [
    "1. Write a Python Program to find sum of array?\n",
    "2. Write a Python Program to find largest element in an array?\n",
    "3. Write a Python Program for array rotation?\n",
    "4. Write a Python Program to Split the array and add the first part to the end?\n",
    "5. Write a Python Program to check if given array is Monotonic?"
   ]
  },
  {
   "cell_type": "code",
   "execution_count": 1,
   "id": "38bd6722",
   "metadata": {},
   "outputs": [],
   "source": [
    "#1. Write a Python Program to find sum of array?"
   ]
  },
  {
   "cell_type": "code",
   "execution_count": 6,
   "id": "37d049ae",
   "metadata": {},
   "outputs": [
    {
     "name": "stdout",
     "output_type": "stream",
     "text": [
      "Enter the range of array :5\n",
      "Enter the elements\n",
      "1\n",
      "2\n",
      "3\n",
      "4\n",
      "5\n",
      "The sum of array :  15\n"
     ]
    }
   ],
   "source": [
    "arr = []\n",
    "\n",
    "s = 0\n",
    "\n",
    "range_arr = int(input(\"Enter the range of array :\"))\n",
    "print(\"Enter the elements\")\n",
    "for i in range(range_arr):\n",
    "    x = int(input())\n",
    "    arr.append(x)\n",
    "\n",
    "for i in range(len(arr)):\n",
    "    s = s+ arr[i]\n",
    "\n",
    "print(\"The sum of array : \",s)"
   ]
  },
  {
   "cell_type": "code",
   "execution_count": null,
   "id": "be12395b",
   "metadata": {},
   "outputs": [],
   "source": [
    "2. Write a Python Program to find largest element in an array"
   ]
  },
  {
   "cell_type": "code",
   "execution_count": 10,
   "id": "5e573309",
   "metadata": {},
   "outputs": [
    {
     "name": "stdout",
     "output_type": "stream",
     "text": [
      "Enter the range of array :5\n",
      "Enter the elements\n",
      "1001\n",
      "25\n",
      "3\n",
      "14\n",
      "987\n",
      "Largest element in the array [1001, 25, 3, 14, 987] is 1001 \n"
     ]
    }
   ],
   "source": [
    "arr = []\n",
    "\n",
    "arr_lar = 0\n",
    "\n",
    "range_arr = int(input(\"Enter the range of array :\"))\n",
    "print(\"Enter the elements\")\n",
    "for i in range(range_arr):\n",
    "    x = int(input())\n",
    "    arr.append(x)\n",
    "for i in range(0,len(arr)):\n",
    "    if arr_lar < arr[i]:\n",
    "        arr_lar = arr[i]\n",
    "print(\"Largest element in the array {} is {} \".format(arr,arr_lar))"
   ]
  },
  {
   "cell_type": "code",
   "execution_count": null,
   "id": "362ec4da",
   "metadata": {},
   "outputs": [],
   "source": [
    "3. Write a Python Program for array rotation?"
   ]
  },
  {
   "cell_type": "code",
   "execution_count": 27,
   "id": "2a7dba0c",
   "metadata": {},
   "outputs": [
    {
     "name": "stdout",
     "output_type": "stream",
     "text": [
      "Enter the range of array :10\n",
      "Enter the elements\n",
      "1\n",
      "2\n",
      "3\n",
      "4\n",
      "5\n",
      "6\n",
      "7\n",
      "8\n",
      "9\n",
      "10\n",
      "The reveresed array  [10, 9, 8, 7, 6, 5, 4, 3, 2, 1]\n"
     ]
    }
   ],
   "source": [
    "arr = []\n",
    "\n",
    "arr_rev = []\n",
    "\n",
    "range_arr = int(input(\"Enter the range of array :\"))\n",
    "print(\"Enter the elements\")\n",
    "for i in range(range_arr):\n",
    "    x = int(input())\n",
    "    arr.append(x)\n",
    "    \n",
    "for i in range(len(arr)):\n",
    "    arr_rev.append((arr[-i-1]))\n",
    "print(\"The reveresed array \",arr_rev)\n"
   ]
  },
  {
   "cell_type": "code",
   "execution_count": 32,
   "id": "40a0a400",
   "metadata": {},
   "outputs": [
    {
     "name": "stdout",
     "output_type": "stream",
     "text": [
      "Enter the range of array :5\n",
      "Enter the elements\n",
      "1\n",
      "2\n",
      "3\n",
      "4\n",
      "5\n",
      "The entered array : [1, 2, 3, 4, 5]\n",
      "Enter Rotation Right/Left : right\n",
      "Enter the number of elements to rotate < : 2\n",
      "The right rotated array : [4, 5, 1, 2, 3]\n"
     ]
    }
   ],
   "source": [
    "arr = []\n",
    "\n",
    "range_arr = int(input(\"Enter the range of array :\"))\n",
    "print(\"Enter the elements\")\n",
    "for i in range(range_arr):\n",
    "    x = int(input())\n",
    "    arr.append(x)\n",
    "print(\"The entered array :\" , arr)\n",
    "rot_mode = input(\"Enter Rotation Right/Left : \")\n",
    "rot_ele = int(input(\"Enter the number of elements to rotate < : \"))\n",
    "\n",
    "if rot_ele > range_arr :\n",
    "    print(\"Rotation not possible as the elements to rotate are more than the numer of elements in array\")\n",
    "else:\n",
    "    arr_rot = []\n",
    "    if rot_mode.upper() == \"RIGHT\" :\n",
    "        arr_rot[:] = arr[-rot_ele:] + arr[:(range_arr-rot_ele)]\n",
    "        print(\"The right rotated array :\" ,arr_rot )\n",
    "    elif rot_mode.upper() == \"LEFT\" :\n",
    "        arr_rot[:] = arr[rot_ele:range_arr] + arr[:rot_ele]\n",
    "        print(\"The left rotated array :\" ,arr_rot )\n",
    "    else:\n",
    "        print(\"Invalid Entry\")\n"
   ]
  },
  {
   "cell_type": "code",
   "execution_count": 13,
   "id": "911a5a81",
   "metadata": {},
   "outputs": [],
   "source": [
    "lst = [10, 9, 8, 7, 6, 5, 4, 3, 2, 1]"
   ]
  },
  {
   "cell_type": "code",
   "execution_count": 14,
   "id": "afdc02e2",
   "metadata": {},
   "outputs": [],
   "source": [
    "lst1 = []"
   ]
  },
  {
   "cell_type": "code",
   "execution_count": 15,
   "id": "0297edd9",
   "metadata": {},
   "outputs": [],
   "source": [
    "lst1[:] = lst[-3:]+lst[:(10-3)]"
   ]
  },
  {
   "cell_type": "code",
   "execution_count": 16,
   "id": "29f1f0e9",
   "metadata": {},
   "outputs": [
    {
     "data": {
      "text/plain": [
       "[3, 2, 1, 10, 9, 8, 7, 6, 5, 4]"
      ]
     },
     "execution_count": 16,
     "metadata": {},
     "output_type": "execute_result"
    }
   ],
   "source": [
    "lst1"
   ]
  },
  {
   "cell_type": "code",
   "execution_count": 12,
   "id": "b9826392",
   "metadata": {},
   "outputs": [],
   "source": [
    "lst2 = []"
   ]
  },
  {
   "cell_type": "code",
   "execution_count": 21,
   "id": "c76017d7",
   "metadata": {},
   "outputs": [],
   "source": [
    "lst2[:] = lst[3:10]"
   ]
  },
  {
   "cell_type": "code",
   "execution_count": 22,
   "id": "b72c29af",
   "metadata": {},
   "outputs": [
    {
     "data": {
      "text/plain": [
       "[7, 6, 5, 4, 3, 2, 1]"
      ]
     },
     "execution_count": 22,
     "metadata": {},
     "output_type": "execute_result"
    }
   ],
   "source": [
    "lst2[:]"
   ]
  },
  {
   "cell_type": "code",
   "execution_count": 23,
   "id": "a5b45ef5",
   "metadata": {},
   "outputs": [
    {
     "data": {
      "text/plain": [
       "[10, 9, 8]"
      ]
     },
     "execution_count": 23,
     "metadata": {},
     "output_type": "execute_result"
    }
   ],
   "source": [
    "lst[:3]"
   ]
  },
  {
   "cell_type": "code",
   "execution_count": 34,
   "id": "9a3752c5",
   "metadata": {},
   "outputs": [
    {
     "name": "stdout",
     "output_type": "stream",
     "text": [
      "Enter the range of array :5\n",
      "Enter the elements\n",
      "1\n",
      "2\n",
      "3\n",
      "4\n",
      "5\n",
      "The entered array : [1, 2, 3, 4, 5]\n",
      "Enter Rotation Right/Left : left\n",
      "Enter the number of elements to rotate < : 2\n",
      "The left rotated array : [3, 4, 5, 1, 2]\n"
     ]
    }
   ],
   "source": [
    "arr = []\n",
    "\n",
    "range_arr = int(input(\"Enter the range of array :\"))\n",
    "print(\"Enter the elements\")\n",
    "for i in range(range_arr):\n",
    "    x = int(input())\n",
    "    arr.append(x)\n",
    "print(\"The entered array :\" , arr)\n",
    "rot_mode = input(\"Enter Rotation Right/Left : \")\n",
    "rot_ele = int(input(\"Enter the number of elements to rotate < : \"))\n",
    "\n",
    "if rot_ele > range_arr :\n",
    "    print(\"Rotation not possible as the elements to rotate are more than the numer of elements in array\")\n",
    "else:\n",
    "    arr_rot = []\n",
    "    if rot_mode.upper() == \"RIGHT\" :\n",
    "        arr_rot[:] = arr[-rot_ele:] + arr[:(range_arr-rot_ele)]\n",
    "        print(\"The right rotated array :\" ,arr_rot )\n",
    "    elif rot_mode.upper() == \"LEFT\" :\n",
    "        arr_rot[:] = arr[rot_ele:range_arr] + arr[:rot_ele]\n",
    "        print(\"The left rotated array :\" ,arr_rot )\n",
    "    else:\n",
    "        print(\"Invalid Entry\")\n"
   ]
  },
  {
   "cell_type": "code",
   "execution_count": 35,
   "id": "32eeffda",
   "metadata": {},
   "outputs": [],
   "source": [
    "#4. Write a Python Program to Split the array and add the first part to the end?"
   ]
  },
  {
   "cell_type": "code",
   "execution_count": 38,
   "id": "8d2534f0",
   "metadata": {},
   "outputs": [
    {
     "name": "stdout",
     "output_type": "stream",
     "text": [
      "Enter the range of array :5\n",
      "Enter the elements\n",
      "1\n",
      "2\n",
      "3\n",
      "4\n",
      "5\n",
      "The entered array : [1, 2, 3, 4, 5]\n",
      "Enter the number of elements to split from Zeroth index :3\n",
      "The split list is : [1, 2, 3]\n",
      "The List after split and add : [4, 5, 1, 2, 3]\n"
     ]
    }
   ],
   "source": [
    "arr = []\n",
    "arr_split = []\n",
    "range_arr = int(input(\"Enter the range of array :\"))\n",
    "print(\"Enter the elements\")\n",
    "for i in range(range_arr):\n",
    "    x = int(input())\n",
    "    arr.append(x)\n",
    "print(\"The entered array :\" , arr)\n",
    "\n",
    "range_split = int(input(\"Enter the number of elements to split from Zeroth index :\"))\n",
    "\n",
    "if range_split > range_arr:\n",
    "    print(\"can not split as elements to split is larger then list lengh\")\n",
    "else:\n",
    "    print(\"The split list is :\",arr[:range_split])\n",
    "    arr_split[:] = arr[range_split:range_arr] + arr[:range_split]\n",
    "    print(\"The List after split and add :\", arr_split)"
   ]
  },
  {
   "cell_type": "code",
   "execution_count": 39,
   "id": "8365c8ec",
   "metadata": {},
   "outputs": [],
   "source": [
    "#5. Write a Python Program to check if given array is Monotonic?"
   ]
  },
  {
   "cell_type": "code",
   "execution_count": 43,
   "id": "3d6a6782",
   "metadata": {},
   "outputs": [
    {
     "name": "stdout",
     "output_type": "stream",
     "text": [
      "Enter the range of array :5\n",
      "Enter the elements\n",
      "1\n",
      "2\n",
      "3\n",
      "4\n",
      "5\n",
      "The entered array : [1, 2, 3, 4, 5]\n"
     ]
    },
    {
     "ename": "TypeError",
     "evalue": "'bool' object is not iterable",
     "output_type": "error",
     "traceback": [
      "\u001b[1;31m---------------------------------------------------------------------------\u001b[0m",
      "\u001b[1;31mTypeError\u001b[0m                                 Traceback (most recent call last)",
      "Input \u001b[1;32mIn [43]\u001b[0m, in \u001b[0;36m<cell line: 9>\u001b[1;34m()\u001b[0m\n\u001b[0;32m      7\u001b[0m \u001b[38;5;28mprint\u001b[39m(\u001b[38;5;124m\"\u001b[39m\u001b[38;5;124mThe entered array :\u001b[39m\u001b[38;5;124m\"\u001b[39m , arr)\n\u001b[0;32m      9\u001b[0m \u001b[38;5;28;01mfor\u001b[39;00m i \u001b[38;5;129;01min\u001b[39;00m \u001b[38;5;28mrange\u001b[39m(range_arr\u001b[38;5;241m-\u001b[39m\u001b[38;5;241m1\u001b[39m):\n\u001b[1;32m---> 10\u001b[0m     \u001b[38;5;28;01mif\u001b[39;00m \u001b[38;5;28;43mall\u001b[39;49m\u001b[43m \u001b[49m\u001b[43m(\u001b[49m\u001b[43m(\u001b[49m\u001b[43marr\u001b[49m\u001b[43m[\u001b[49m\u001b[43mi\u001b[49m\u001b[43m]\u001b[49m\u001b[43m \u001b[49m\u001b[38;5;241;43m<\u001b[39;49m\u001b[38;5;241;43m=\u001b[39;49m\u001b[43m \u001b[49m\u001b[43marr\u001b[49m\u001b[43m[\u001b[49m\u001b[43mi\u001b[49m\u001b[38;5;241;43m+\u001b[39;49m\u001b[38;5;241;43m1\u001b[39;49m\u001b[43m]\u001b[49m\u001b[43m)\u001b[49m\u001b[43m \u001b[49m\u001b[38;5;129;43;01mor\u001b[39;49;00m\u001b[43m \u001b[49m\u001b[43m(\u001b[49m\u001b[43marr\u001b[49m\u001b[43m[\u001b[49m\u001b[43mi\u001b[49m\u001b[43m]\u001b[49m\u001b[43m \u001b[49m\u001b[38;5;241;43m>\u001b[39;49m\u001b[38;5;241;43m=\u001b[39;49m\u001b[43m \u001b[49m\u001b[43marr\u001b[49m\u001b[43m[\u001b[49m\u001b[43mi\u001b[49m\u001b[38;5;241;43m+\u001b[39;49m\u001b[38;5;241;43m1\u001b[39;49m\u001b[43m]\u001b[49m\u001b[43m)\u001b[49m\u001b[43m)\u001b[49m:\n\u001b[0;32m     11\u001b[0m         \u001b[38;5;28mprint\u001b[39m(\u001b[38;5;124m\"\u001b[39m\u001b[38;5;124mThe array is monotonic\u001b[39m\u001b[38;5;124m\"\u001b[39m)\n\u001b[0;32m     12\u001b[0m     \u001b[38;5;28;01melse\u001b[39;00m:\n",
      "\u001b[1;31mTypeError\u001b[0m: 'bool' object is not iterable"
     ]
    }
   ],
   "source": [
    "arr = []\n",
    "range_arr = int(input(\"Enter the range of array :\"))\n",
    "print(\"Enter the elements\")\n",
    "for i in range(range_arr):\n",
    "    x = int(input())\n",
    "    arr.append(x)\n",
    "print(\"The entered array :\" , arr)\n",
    "\n",
    "for i in range(range_arr-1):\n",
    "    if all ((arr[i] <= arr[i+1]) or (arr[i] >= arr[i+1])):\n",
    "        print(\"The array is monotonic\")\n",
    "    else:\n",
    "        print(\"The array is not monotonic\")"
   ]
  },
  {
   "cell_type": "code",
   "execution_count": 46,
   "id": "06770d7c",
   "metadata": {},
   "outputs": [
    {
     "name": "stdout",
     "output_type": "stream",
     "text": [
      "Enter the lenth of your list : 5\n",
      "1\n",
      "2\n",
      "3\n",
      "4\n",
      "5\n",
      "The List is  [1, 2, 3, 4, 5]\n"
     ]
    },
    {
     "ename": "TypeError",
     "evalue": "'bool' object is not iterable",
     "output_type": "error",
     "traceback": [
      "\u001b[1;31m---------------------------------------------------------------------------\u001b[0m",
      "\u001b[1;31mTypeError\u001b[0m                                 Traceback (most recent call last)",
      "Input \u001b[1;32mIn [46]\u001b[0m, in \u001b[0;36m<cell line: 8>\u001b[1;34m()\u001b[0m\n\u001b[0;32m      6\u001b[0m \u001b[38;5;28mprint\u001b[39m(\u001b[38;5;124m\"\u001b[39m\u001b[38;5;124mThe List is \u001b[39m\u001b[38;5;124m\"\u001b[39m,lst)\n\u001b[0;32m      8\u001b[0m \u001b[38;5;28;01mfor\u001b[39;00m i \u001b[38;5;129;01min\u001b[39;00m \u001b[38;5;28mrange\u001b[39m(n\u001b[38;5;241m-\u001b[39m\u001b[38;5;241m1\u001b[39m):\n\u001b[1;32m----> 9\u001b[0m     \u001b[38;5;28;01mif\u001b[39;00m \u001b[38;5;28;43mall\u001b[39;49m\u001b[43m(\u001b[49m\u001b[43m(\u001b[49m\u001b[43mlst\u001b[49m\u001b[43m[\u001b[49m\u001b[43mi\u001b[49m\u001b[43m]\u001b[49m\u001b[43m \u001b[49m\u001b[38;5;241;43m<\u001b[39;49m\u001b[38;5;241;43m=\u001b[39;49m\u001b[43m \u001b[49m\u001b[43mlst\u001b[49m\u001b[43m[\u001b[49m\u001b[43mi\u001b[49m\u001b[38;5;241;43m+\u001b[39;49m\u001b[38;5;241;43m1\u001b[39;49m\u001b[43m]\u001b[49m\u001b[43m)\u001b[49m\u001b[43m  \u001b[49m\u001b[38;5;129;43;01mor\u001b[39;49;00m\u001b[43m \u001b[49m\u001b[43m(\u001b[49m\u001b[43mlst\u001b[49m\u001b[43m[\u001b[49m\u001b[43mi\u001b[49m\u001b[43m]\u001b[49m\u001b[43m \u001b[49m\u001b[38;5;241;43m>\u001b[39;49m\u001b[38;5;241;43m=\u001b[39;49m\u001b[43m \u001b[49m\u001b[43mlst\u001b[49m\u001b[43m[\u001b[49m\u001b[43mi\u001b[49m\u001b[38;5;241;43m+\u001b[39;49m\u001b[38;5;241;43m1\u001b[39;49m\u001b[43m]\u001b[49m\u001b[43m)\u001b[49m\u001b[43m)\u001b[49m:\n\u001b[0;32m     10\u001b[0m         \u001b[38;5;28mprint\u001b[39m(\u001b[38;5;124m\"\u001b[39m\u001b[38;5;124mMonotonic\u001b[39m\u001b[38;5;124m\"\u001b[39m)\n\u001b[0;32m     11\u001b[0m     \u001b[38;5;28;01melse\u001b[39;00m:\n",
      "\u001b[1;31mTypeError\u001b[0m: 'bool' object is not iterable"
     ]
    }
   ],
   "source": [
    "n = int(input(\"Enter the lenth of your list : \"))\n",
    "lst = []\n",
    "\n",
    "for i in range(n):\n",
    "    lst.append(int(input()))\n",
    "print(\"The List is \",lst)\n",
    "\n",
    "for i in range(n-1):\n",
    "    if all((lst[i] <= lst[i+1])  or (lst[i] >= lst[i+1])):\n",
    "        print(\"Monotonic\")\n",
    "    else:\n",
    "        print(\"Not Monotonic\")"
   ]
  },
  {
   "cell_type": "code",
   "execution_count": 47,
   "id": "b9092135",
   "metadata": {},
   "outputs": [
    {
     "name": "stdout",
     "output_type": "stream",
     "text": [
      "Enter the lenth of your list : 5\n",
      "1\n",
      "2\n",
      "3\n",
      "4\n",
      "5\n",
      "The List is  [1, 2, 3, 4, 5]\n",
      "Monotonic\n"
     ]
    }
   ],
   "source": [
    "n = int(input(\"Enter the lenth of your list : \"))\n",
    "lst = []\n",
    "\n",
    "for i in range(n):\n",
    "    lst.append(int(input()))\n",
    "print(\"The List is \",lst)\n",
    "\n",
    "if all((lst[i] <= lst[i+1] for i in range(n-1)) or (lst[i] >= lst[i+1] for i in range(n-1))):\n",
    "    print(\"Monotonic\")\n",
    "else:\n",
    "    print(\"Not Monotonic\")"
   ]
  },
  {
   "cell_type": "code",
   "execution_count": null,
   "id": "d5a4264c",
   "metadata": {},
   "outputs": [],
   "source": []
  }
 ],
 "metadata": {
  "kernelspec": {
   "display_name": "Python 3 (ipykernel)",
   "language": "python",
   "name": "python3"
  },
  "language_info": {
   "codemirror_mode": {
    "name": "ipython",
    "version": 3
   },
   "file_extension": ".py",
   "mimetype": "text/x-python",
   "name": "python",
   "nbconvert_exporter": "python",
   "pygments_lexer": "ipython3",
   "version": "3.9.12"
  }
 },
 "nbformat": 4,
 "nbformat_minor": 5
}
