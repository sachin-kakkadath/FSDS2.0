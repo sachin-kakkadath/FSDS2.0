{
 "cells": [
  {
   "cell_type": "markdown",
   "id": "d41f47d5",
   "metadata": {},
   "source": [
    "1. Write a Python program to Extract Unique values dictionary values?\n",
    "2. Write a Python program to find the sum of all items in a dictionary?\n",
    "3. Write a Python program to Merging two Dictionaries?\n",
    "4. Write a Python program to convert key-values list to flat dictionary?\n",
    "5. Write a Python program to insertion at the beginning in OrderedDict?\n",
    "6. Write a Python program to check order of character in string using OrderedDict()?\n",
    "7. Write a Python program to sort Python Dictionaries by Key or Value?"
   ]
  },
  {
   "cell_type": "code",
   "execution_count": null,
   "id": "05c8c029",
   "metadata": {},
   "outputs": [],
   "source": [
    "#1. Write a Python program to Extract Unique values dictionary values?\n",
    "\n",
    "\n",
    "sample_dict = {'a': 1, 'b': 2, 'c': 1, 'd': 3, 'e': 2}\n",
    "\n",
    "# Get the unique values from the dictionary\n",
    "unique_values = set(sample_dict.values())\n",
    "\n",
    "# Print the unique values\n",
    "print(\"Unique values in the dictionary are: \")\n",
    "for value in unique_values:\n",
    "    print(value)"
   ]
  },
  {
   "cell_type": "code",
   "execution_count": null,
   "id": "92f2716a",
   "metadata": {},
   "outputs": [],
   "source": [
    "#2. Write a Python program to find the sum of all items in a dictionary?"
   ]
  },
  {
   "cell_type": "code",
   "execution_count": null,
   "id": "bce51dab",
   "metadata": {},
   "outputs": [],
   "source": [
    "sample_dict = {'a': 1, 'b': 2, 'c': 1, 'd': 3, 'e': 2}\n",
    "\n",
    "# Get the unique values from the dictionary\n",
    "sum_values = sum(sample_dict.values())\n",
    "\n",
    "# Print the sum of values\n",
    "\n",
    "print(\"Sum of values in the dictionary are: \" ,sum_values)\n"
   ]
  },
  {
   "cell_type": "code",
   "execution_count": 4,
   "id": "980a0c34",
   "metadata": {},
   "outputs": [
    {
     "name": "stdout",
     "output_type": "stream",
     "text": [
      "{'a': 100, 'b': 200, 'x': 300, 'y': 400}\n"
     ]
    }
   ],
   "source": [
    "#3. Write a Python program to Merging two Dictionaries?\n",
    "\n",
    "dict1 = {'a': 100, 'b': 200}\n",
    "dict2 = {'x': 300, 'y': 400}\n",
    "\n",
    "# Merge the dictionaries\n",
    "dict1.update(dict2)\n",
    "\n",
    "# Print the merged dictionary\n",
    "print(dict1)"
   ]
  },
  {
   "cell_type": "code",
   "execution_count": 7,
   "id": "3538e05c",
   "metadata": {},
   "outputs": [
    {
     "name": "stdout",
     "output_type": "stream",
     "text": [
      "{'a': 100, 'b': 200, 'c': 300}\n"
     ]
    }
   ],
   "source": [
    "#4. Write a Python program to convert key-values list to flat dictionary?\n",
    "\n",
    "key_value_list = [('a', 100), ('b', 200), ('c', 300)]\n",
    "\n",
    "flat_dict = {}\n",
    "\n",
    "for pair in key_value_list:\n",
    "    flat_dict[pair[0]] = pair[1]\n",
    "\n",
    "\n",
    "print(flat_dict)"
   ]
  },
  {
   "cell_type": "code",
   "execution_count": 13,
   "id": "c56374ee",
   "metadata": {},
   "outputs": [
    {
     "data": {
      "text/plain": [
       "{'f': 2, 'a': 1, 'b': 2, 'c': 1, 'd': 3, 'e': 2}"
      ]
     },
     "execution_count": 13,
     "metadata": {},
     "output_type": "execute_result"
    }
   ],
   "source": [
    "#5. Write a Python program to insertion at the beginning in OrderedDict?\n",
    "\n",
    "sample_dict1 = {'a': 1, 'b': 2, 'c': 1, 'd': 3, 'e': 2}\n",
    "sample_dict2 = {'f' : 2}\n",
    "sample_dict2.update(sample_dict1)\n",
    "\n",
    "sample_dict2"
   ]
  },
  {
   "cell_type": "code",
   "execution_count": 14,
   "id": "36b5a83f",
   "metadata": {},
   "outputs": [],
   "source": [
    "#6. Write a Python program to check order of character in string using OrderedDict()?"
   ]
  },
  {
   "cell_type": "code",
   "execution_count": 26,
   "id": "f4a7aace",
   "metadata": {},
   "outputs": [
    {
     "name": "stdout",
     "output_type": "stream",
     "text": [
      "{'apple': 5, 'banana': 3, 'orange': 2, 'pear': 1}\n"
     ]
    }
   ],
   "source": [
    "#7. Write a Python program to sort Python Dictionaries by Key or Value?\n",
    "\n",
    "# define a dictionary\n",
    "my_dict = {'apple': 5, 'banana': 3, 'pear': 1, 'orange': 2}\n",
    "\n",
    "# sort the dictionary by key using the sorted() function\n",
    "sorted_dict = dict(sorted(my_dict.items()))\n",
    "\n",
    "# print the sorted dictionary\n",
    "print(sorted_dict)"
   ]
  },
  {
   "cell_type": "code",
   "execution_count": null,
   "id": "01e2e3ae",
   "metadata": {},
   "outputs": [],
   "source": []
  }
 ],
 "metadata": {
  "kernelspec": {
   "display_name": "Python 3 (ipykernel)",
   "language": "python",
   "name": "python3"
  },
  "language_info": {
   "codemirror_mode": {
    "name": "ipython",
    "version": 3
   },
   "file_extension": ".py",
   "mimetype": "text/x-python",
   "name": "python",
   "nbconvert_exporter": "python",
   "pygments_lexer": "ipython3",
   "version": "3.9.12"
  }
 },
 "nbformat": 4,
 "nbformat_minor": 5
}
