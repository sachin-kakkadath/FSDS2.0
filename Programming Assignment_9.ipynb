{
 "cells": [
  {
   "cell_type": "markdown",
   "id": "095048ff",
   "metadata": {},
   "source": [
    "1. Write a Python program to check if the given number is a Disarium Number?\n",
    "2. Write a Python program to print all disarium numbers between 1 to 100?\n",
    "3. Write a Python program to check if the given number is Happy Number?\n",
    "4. Write a Python program to print all happy numbers between 1 and 100?\n",
    "5. Write a Python program to determine whether the given number is a Harshad Number?\n",
    "6. Write a Python program to print all pronic numbers between 1 and 100?"
   ]
  },
  {
   "cell_type": "code",
   "execution_count": 9,
   "id": "a43af9d7",
   "metadata": {},
   "outputs": [],
   "source": [
    "def is_disarium(num):\n",
    "    num_str = str(num)\n",
    "    sum_of_powers = 0\n",
    "    for i, digit in enumerate(num_str):\n",
    "        power = int(digit) ** (i+1)\n",
    "        sum_of_powers += power\n",
    "    return sum_of_powers == num "
   ]
  },
  {
   "cell_type": "code",
   "execution_count": 10,
   "id": "c2ef5d84",
   "metadata": {},
   "outputs": [
    {
     "name": "stdout",
     "output_type": "stream",
     "text": [
      "True\n"
     ]
    }
   ],
   "source": [
    "print(is_disarium(135))"
   ]
  },
  {
   "cell_type": "code",
   "execution_count": 11,
   "id": "0f1ccb0e",
   "metadata": {},
   "outputs": [
    {
     "name": "stdout",
     "output_type": "stream",
     "text": [
      "False\n"
     ]
    }
   ],
   "source": [
    "print(is_disarium(100))"
   ]
  },
  {
   "cell_type": "code",
   "execution_count": 3,
   "id": "a1ca5e5e",
   "metadata": {},
   "outputs": [],
   "source": [
    "n = str(100)"
   ]
  },
  {
   "cell_type": "code",
   "execution_count": 5,
   "id": "ab3559f6",
   "metadata": {},
   "outputs": [],
   "source": [
    "x = list(enumerate(n))"
   ]
  },
  {
   "cell_type": "code",
   "execution_count": 6,
   "id": "e1fdffd9",
   "metadata": {},
   "outputs": [
    {
     "data": {
      "text/plain": [
       "[(0, '1'), (1, '0'), (2, '0')]"
      ]
     },
     "execution_count": 6,
     "metadata": {},
     "output_type": "execute_result"
    }
   ],
   "source": [
    "x"
   ]
  },
  {
   "cell_type": "code",
   "execution_count": 13,
   "id": "e38c914c",
   "metadata": {},
   "outputs": [],
   "source": [
    "#Write a Python program to print all disarium numbers between 1 to 100?"
   ]
  },
  {
   "cell_type": "code",
   "execution_count": 18,
   "id": "dfb70841",
   "metadata": {},
   "outputs": [
    {
     "name": "stdout",
     "output_type": "stream",
     "text": [
      "1\n",
      "2\n",
      "3\n",
      "4\n",
      "5\n",
      "6\n",
      "7\n",
      "8\n",
      "9\n",
      "89\n",
      "135\n",
      "175\n",
      "518\n",
      "598\n"
     ]
    }
   ],
   "source": [
    "def is_disarium(num):\n",
    "    num_str = str(num)\n",
    "    sum_of_powers = 0\n",
    "    for i, digit in enumerate(num_str):\n",
    "        power = int(digit) ** (i+1)\n",
    "        sum_of_powers += power\n",
    "    return sum_of_powers == num \n",
    "\n",
    "for i in range(1,1001):\n",
    "    if is_disarium(i):\n",
    "        print(i)"
   ]
  },
  {
   "cell_type": "code",
   "execution_count": 20,
   "id": "c2cd586b",
   "metadata": {},
   "outputs": [],
   "source": [
    "#Write a Python program to determine whether the given number is a Harshad Number?"
   ]
  },
  {
   "cell_type": "code",
   "execution_count": 26,
   "id": "006317f4",
   "metadata": {},
   "outputs": [],
   "source": [
    "def is_harshad(num):\n",
    "    sum = 0 \n",
    "    temp = num\n",
    "    while temp > 0 :\n",
    "        sum = sum + temp%10\n",
    "        temp = temp/10\n",
    "        return num % sum == 0\n",
    "    "
   ]
  },
  {
   "cell_type": "code",
   "execution_count": 27,
   "id": "dc657f54",
   "metadata": {},
   "outputs": [
    {
     "data": {
      "text/plain": [
       "True"
      ]
     },
     "execution_count": 27,
     "metadata": {},
     "output_type": "execute_result"
    }
   ],
   "source": [
    "is_harshad(12)"
   ]
  },
  {
   "cell_type": "code",
   "execution_count": 28,
   "id": "d505f35c",
   "metadata": {},
   "outputs": [
    {
     "data": {
      "text/plain": [
       "True"
      ]
     },
     "execution_count": 28,
     "metadata": {},
     "output_type": "execute_result"
    }
   ],
   "source": [
    "is_harshad(15)"
   ]
  },
  {
   "cell_type": "code",
   "execution_count": 29,
   "id": "00d767ea",
   "metadata": {},
   "outputs": [
    {
     "data": {
      "text/plain": [
       "False"
      ]
     },
     "execution_count": 29,
     "metadata": {},
     "output_type": "execute_result"
    }
   ],
   "source": [
    "is_harshad(14)"
   ]
  },
  {
   "cell_type": "code",
   "execution_count": null,
   "id": "4301b1f1",
   "metadata": {},
   "outputs": [],
   "source": [
    "#Write a Python program to check if the given number is Happy Number?"
   ]
  },
  {
   "cell_type": "code",
   "execution_count": 30,
   "id": "6ee83257",
   "metadata": {},
   "outputs": [],
   "source": [
    "def is_happy(num):\n",
    "    seen = set()\n",
    "    while num != 1:\n",
    "        num_str = str(num)\n",
    "        num = sum(int(digit)**2 for digit in num_str)\n",
    "        if num in seen:\n",
    "            return False\n",
    "        seen.add(num)\n",
    "    return True"
   ]
  },
  {
   "cell_type": "code",
   "execution_count": 31,
   "id": "c5e2fb49",
   "metadata": {},
   "outputs": [
    {
     "data": {
      "text/plain": [
       "True"
      ]
     },
     "execution_count": 31,
     "metadata": {},
     "output_type": "execute_result"
    }
   ],
   "source": [
    "is_happy(19)"
   ]
  },
  {
   "cell_type": "code",
   "execution_count": 32,
   "id": "224f9dfb",
   "metadata": {},
   "outputs": [
    {
     "data": {
      "text/plain": [
       "False"
      ]
     },
     "execution_count": 32,
     "metadata": {},
     "output_type": "execute_result"
    }
   ],
   "source": [
    "is_happy(20)"
   ]
  },
  {
   "cell_type": "code",
   "execution_count": 33,
   "id": "63c2f80c",
   "metadata": {},
   "outputs": [],
   "source": [
    "#Write a Python program to print all happy numbers between 1 and 100?"
   ]
  },
  {
   "cell_type": "code",
   "execution_count": 35,
   "id": "87431d27",
   "metadata": {},
   "outputs": [
    {
     "name": "stdout",
     "output_type": "stream",
     "text": [
      "1\n",
      "7\n",
      "10\n",
      "13\n",
      "19\n",
      "23\n",
      "28\n",
      "31\n",
      "32\n",
      "44\n",
      "49\n",
      "68\n",
      "70\n",
      "79\n",
      "82\n",
      "86\n",
      "91\n",
      "94\n",
      "97\n",
      "100\n"
     ]
    }
   ],
   "source": [
    "for i in range(1,101):\n",
    "    if is_happy(i):\n",
    "        print(i)"
   ]
  },
  {
   "cell_type": "code",
   "execution_count": 40,
   "id": "ae07a095",
   "metadata": {},
   "outputs": [],
   "source": [
    "#Write a Python program to print all pronic numbers between 1 and 100?"
   ]
  },
  {
   "cell_type": "code",
   "execution_count": 41,
   "id": "86a32619",
   "metadata": {},
   "outputs": [
    {
     "name": "stdout",
     "output_type": "stream",
     "text": [
      "Enter a number: 100\n",
      "Not a Pronic number\n"
     ]
    }
   ],
   "source": [
    "n = int(input(\"Enter a number: \"))\n",
    "f = 0\n",
    "for i in range(n):\n",
    "    if i * (i + 1) == n:\n",
    "        f = 1\n",
    "        break\n",
    "if f==1:\n",
    "    print(\"Pronic number\")\n",
    "else:\n",
    "    print(\"Not a Pronic number\")"
   ]
  },
  {
   "cell_type": "code",
   "execution_count": null,
   "id": "a526617c",
   "metadata": {},
   "outputs": [],
   "source": []
  }
 ],
 "metadata": {
  "kernelspec": {
   "display_name": "Python 3 (ipykernel)",
   "language": "python",
   "name": "python3"
  },
  "language_info": {
   "codemirror_mode": {
    "name": "ipython",
    "version": 3
   },
   "file_extension": ".py",
   "mimetype": "text/x-python",
   "name": "python",
   "nbconvert_exporter": "python",
   "pygments_lexer": "ipython3",
   "version": "3.9.12"
  }
 },
 "nbformat": 4,
 "nbformat_minor": 5
}
