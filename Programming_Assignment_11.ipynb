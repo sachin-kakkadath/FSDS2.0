{
 "cells": [
  {
   "cell_type": "markdown",
   "id": "3654328a",
   "metadata": {},
   "source": [
    "1. Write a Python program to find words which are greater than given length k?\n",
    "2. Write a Python program for removing i-th character from a string?\n",
    "3. Write a Python program to split and join a string?\n",
    "4. Write a Python to check if a given string is binary string or not?\n",
    "5. Write a Python program to find uncommon words from two Strings?\n",
    "6. Write a Python to find all duplicate characters in string?\n",
    "7. Write a Python Program to check if a string contains any special character?"
   ]
  },
  {
   "cell_type": "code",
   "execution_count": 4,
   "id": "efef885d",
   "metadata": {},
   "outputs": [
    {
     "name": "stdout",
     "output_type": "stream",
     "text": [
      "Enter the string :Write a Python program to find words which are greater than given length k?\n",
      "Enter the minimal string length :5\n",
      "['Python', 'program', 'greater', 'length']\n"
     ]
    }
   ],
   "source": [
    "#1. Write a Python program to find words which are greater than given length k?\n",
    "\n",
    "def find_long_words(text,k):\n",
    "    words = text.split()\n",
    "    long_words = [word for word in words if len(word) > k]\n",
    "    return long_words\n",
    "\n",
    "string = str(input(\"Enter the string :\"))\n",
    "\n",
    "k = int(input(\"Enter the minimal string length :\"))\n",
    "\n",
    "long_words = find_long_words(string, k)\n",
    "print(long_words)\n",
    "\n"
   ]
  },
  {
   "cell_type": "code",
   "execution_count": 16,
   "id": "ad8cbc3c",
   "metadata": {},
   "outputs": [
    {
     "name": "stdout",
     "output_type": "stream",
     "text": [
      "Enter the string :Write a Python program for removing i-th character from a string?\n",
      "Enter the charactor position :7\n",
      "Enter the charactor to replace :b\n",
      "Modified string: Write bPython program for removing i-th character from a string?\n"
     ]
    }
   ],
   "source": [
    "#2. Write a Python program for removing i-th character from a string?\n",
    "\n",
    "text = str(input(\"Enter the string :\"))\n",
    "\n",
    "i = int(input(\"Enter the charactor position :\"))\n",
    "\n",
    "k = str(input(\"Enter the charactor to replace :\"))\n",
    "\n",
    "new_text = text[:(i-1)] + k + \"\" + text[(i+1) : ]\n",
    "\n",
    "print(\"Modified string:\", new_text)\n",
    "        \n",
    "\n"
   ]
  },
  {
   "cell_type": "code",
   "execution_count": 18,
   "id": "903fe6a8",
   "metadata": {},
   "outputs": [
    {
     "name": "stdout",
     "output_type": "stream",
     "text": [
      "Enter a string to split: Write a Python program for removing i-th character from a string?\n",
      "Enter the delimiter:  \n",
      "Split string: ['Write', 'a', 'Python', 'program', 'for', 'removing', 'i-th', 'character', 'from', 'a', 'string?']\n",
      "Joined string: Write a Python program for removing i-th character from a string?\n"
     ]
    }
   ],
   "source": [
    "#3. Write a Python program to split and join a string?\n",
    "\n",
    "# Splitting a string\n",
    "string = input(\"Enter a string to split: \")\n",
    "delimiter = input(\"Enter the delimiter: \")\n",
    "\n",
    "split_string = string.split(delimiter)\n",
    "print(\"Split string:\", split_string)\n",
    "\n",
    "# Joining a string\n",
    "join_string = delimiter.join(split_string)\n",
    "print(\"Joined string:\", join_string)"
   ]
  },
  {
   "cell_type": "code",
   "execution_count": 21,
   "id": "ceb6672d",
   "metadata": {},
   "outputs": [
    {
     "name": "stdout",
     "output_type": "stream",
     "text": [
      "Enter a string: 101110\n",
      "The string is a binary string.\n"
     ]
    }
   ],
   "source": [
    "#4. Write a Python to check if a given string is binary string or not?\n",
    "\n",
    "string = input(\"Enter a string: \")\n",
    "\n",
    "# Set of valid binary digits\n",
    "binary = {'0', '1'}\n",
    "\n",
    "# Check if every character in the string is a valid binary digit\n",
    "if set(string) == binary or set(string) <= binary:\n",
    "    print(\"The string is a binary string.\")\n",
    "else:\n",
    "    print(\"The string is not a binary string.\")"
   ]
  },
  {
   "cell_type": "code",
   "execution_count": 22,
   "id": "d5cc9e39",
   "metadata": {},
   "outputs": [
    {
     "name": "stdout",
     "output_type": "stream",
     "text": [
      "Enter the first string: Write a Python program for removing i-th character from a string?\n",
      "Enter the second string: Write a Python program for removing i-th character from a string_\n",
      "Uncommon words: ['string?', 'string_']\n"
     ]
    }
   ],
   "source": [
    "#5. Write a Python program to find uncommon words from two Strings?\n",
    "\n",
    "\n",
    "string1 = input(\"Enter the first string: \")\n",
    "string2 = input(\"Enter the second string: \")\n",
    "\n",
    "# Split the strings into words\n",
    "words1 = string1.split()\n",
    "words2 = string2.split()\n",
    "\n",
    "# Find uncommon words\n",
    "uncommon_words = []\n",
    "for word in words1:\n",
    "    if word not in words2:\n",
    "        uncommon_words.append(word)\n",
    "for word in words2:\n",
    "    if word not in words1:\n",
    "        uncommon_words.append(word)\n",
    "\n",
    "# Print uncommon words\n",
    "print(\"Uncommon words:\", uncommon_words)"
   ]
  },
  {
   "cell_type": "code",
   "execution_count": 27,
   "id": "a8ff7c2f",
   "metadata": {},
   "outputs": [
    {
     "name": "stdout",
     "output_type": "stream",
     "text": [
      "Enter a string: Write a Python to find all duplicate characters in string?\n",
      "Duplicate characters: [' ', 't', ' ', 't', 'o', ' ', 'i', 'n', ' ', 'a', 'l', ' ', 'd', 'l', 'i', 'a', 't', 'e', ' ', 'c', 'h', 'a', 'r', 'a', 'c', 't', 'e', 'r', ' ', 'i', 'n', ' ', 's', 't', 'r', 'i', 'n']\n"
     ]
    }
   ],
   "source": [
    "#6. Write a Python to find all duplicate characters in string?\n",
    "\n",
    "string = input(\"Enter a string: \")\n",
    "\n",
    "# Create an empty set to store characters that have been seen before\n",
    "seen = set()\n",
    "\n",
    "# Create an empty list to store characters that have been seen more than once\n",
    "duplicates = []\n",
    "\n",
    "# Iterate over each character in the string\n",
    "for char in string:\n",
    "    # If the character has already been seen, it's a duplicate\n",
    "    if char in seen:\n",
    "        duplicates.append(char)\n",
    "    else:\n",
    "        seen.add(char)\n",
    "\n",
    "# Print the list of duplicate characters\n",
    "print(\"Duplicate characters:\", duplicates)\n",
    "\n"
   ]
  },
  {
   "cell_type": "code",
   "execution_count": 28,
   "id": "6527b0f4",
   "metadata": {},
   "outputs": [
    {
     "name": "stdout",
     "output_type": "stream",
     "text": [
      "Enter a string: Write a Python Program to check if a string contains any special character?\n",
      "The string contains special characters.\n"
     ]
    }
   ],
   "source": [
    "#7. Write a Python Program to check if a string contains any special character?\n",
    "\n",
    "import re\n",
    "\n",
    "string = input(\"Enter a string: \")\n",
    "\n",
    "# Define a regular expression pattern for special characters\n",
    "pattern = re.compile('[\\W_]+')\n",
    "\n",
    "# Check if the pattern matches any part of the string\n",
    "if pattern.search(string):\n",
    "    print(\"The string contains special characters.\")\n",
    "else:\n",
    "    print(\"The string does not contain special characters.\")\n"
   ]
  },
  {
   "cell_type": "code",
   "execution_count": null,
   "id": "2bb80036",
   "metadata": {},
   "outputs": [],
   "source": []
  }
 ],
 "metadata": {
  "kernelspec": {
   "display_name": "Python 3 (ipykernel)",
   "language": "python",
   "name": "python3"
  },
  "language_info": {
   "codemirror_mode": {
    "name": "ipython",
    "version": 3
   },
   "file_extension": ".py",
   "mimetype": "text/x-python",
   "name": "python",
   "nbconvert_exporter": "python",
   "pygments_lexer": "ipython3",
   "version": "3.9.12"
  }
 },
 "nbformat": 4,
 "nbformat_minor": 5
}
