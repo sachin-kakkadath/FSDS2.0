{
 "cells": [
  {
   "cell_type": "code",
   "execution_count": null,
   "id": "1e4f9f4f",
   "metadata": {},
   "outputs": [],
   "source": [
    "1. Write a Python program to find sum of elements in list?\n",
    "2. Write a Python program to Multiply all numbers in the list?\n",
    "3. Write a Python program to find smallest number in a list?\n",
    "4. Write a Python program to find largest number in a list?\n",
    "5. Write a Python program to find second largest number in a list?\n",
    "6. Write a Python program to find N largest elements from a list?\n",
    "7. Write a Python program to print even numbers in a list?\n",
    "8. Write a Python program to print odd numbers in a List?\n",
    "9. Write a Python program to Remove empty List from List?\n",
    "10. Write a Python program to Cloning or Copying a list?\n",
    "11. Write a Python program to Count occurrences of an element in a list?"
   ]
  },
  {
   "cell_type": "code",
   "execution_count": 1,
   "id": "cd633c3a",
   "metadata": {},
   "outputs": [],
   "source": [
    "#1. Write a Python program to find sum of elements in list?"
   ]
  },
  {
   "cell_type": "code",
   "execution_count": 4,
   "id": "5c83f93b",
   "metadata": {},
   "outputs": [
    {
     "name": "stdout",
     "output_type": "stream",
     "text": [
      "Enter the list length : 5\n",
      "Enter the elements\n",
      "1\n",
      "2\n",
      "3\n",
      "4\n",
      "5\n",
      "The list is : [1, 2, 3, 4, 5]\n",
      "The sum of the elements in list is : 15\n"
     ]
    }
   ],
   "source": [
    "lst = []\n",
    "\n",
    "n = int(input(\"Enter the list length : \"))\n",
    "print(\"Enter the elements\")\n",
    "for i in range(int(n)):\n",
    "    x = int(input())\n",
    "    lst.append(x)\n",
    "print(\"The list is :\" , lst)\n",
    "\n",
    "sum = 0\n",
    "\n",
    "for i in range(n):\n",
    "    sum = sum + lst[i]\n",
    "print(\"The sum of the elements in list is :\" , sum)"
   ]
  },
  {
   "cell_type": "code",
   "execution_count": 5,
   "id": "e05c73ba",
   "metadata": {},
   "outputs": [
    {
     "name": "stdout",
     "output_type": "stream",
     "text": [
      "Enter the number : 3\n"
     ]
    }
   ],
   "source": [
    "num = int(input(\"Enter the number : \"))"
   ]
  },
  {
   "cell_type": "code",
   "execution_count": 5,
   "id": "9e38caed",
   "metadata": {},
   "outputs": [],
   "source": [
    "#2. Write a Python program to Multiply all numbers in the list?"
   ]
  },
  {
   "cell_type": "code",
   "execution_count": 6,
   "id": "cc1c5c37",
   "metadata": {},
   "outputs": [
    {
     "name": "stdout",
     "output_type": "stream",
     "text": [
      "Enter the list length : 5\n",
      "Enter the elements\n",
      "1\n",
      "2\n",
      "3\n",
      "4\n",
      "5\n",
      "The list is : [1, 2, 3, 4, 5]\n",
      "The product of the elements in list is : 120\n"
     ]
    }
   ],
   "source": [
    "lst = []\n",
    "\n",
    "n = int(input(\"Enter the list length : \"))\n",
    "print(\"Enter the elements\")\n",
    "for i in range(int(n)):\n",
    "    x = int(input())\n",
    "    lst.append(x)\n",
    "print(\"The list is :\" , lst)\n",
    "\n",
    "product = 1\n",
    "\n",
    "for i in range(n):\n",
    "    product = product * lst[i]\n",
    "print(\"The product of the elements in list is :\" , product)"
   ]
  },
  {
   "cell_type": "code",
   "execution_count": 7,
   "id": "ea4be055",
   "metadata": {},
   "outputs": [],
   "source": [
    "#3. Write a Python program to find smallest number in a list?"
   ]
  },
  {
   "cell_type": "code",
   "execution_count": 10,
   "id": "ade77873",
   "metadata": {},
   "outputs": [
    {
     "name": "stdout",
     "output_type": "stream",
     "text": [
      "Enter the list length : 5\n",
      "Enter the elements\n",
      "1\n",
      "2\n",
      "3\n",
      "4\n",
      "5\n",
      "The list is : [1, 2, 3, 4, 5]\n",
      "The smallest of the elements in list is : 1\n"
     ]
    }
   ],
   "source": [
    "lst = []\n",
    "\n",
    "n = int(input(\"Enter the list length : \"))\n",
    "print(\"Enter the elements\")\n",
    "for i in range(int(n)):\n",
    "    x = int(input())\n",
    "    lst.append(x)\n",
    "print(\"The list is :\" , lst)\n",
    "        \n",
    "print(\"The smallest of the elements in list is :\" , min(lst))"
   ]
  },
  {
   "cell_type": "code",
   "execution_count": null,
   "id": "6aa5d811",
   "metadata": {},
   "outputs": [],
   "source": [
    "4. Write a Python program to find largest number in a list?"
   ]
  },
  {
   "cell_type": "code",
   "execution_count": 11,
   "id": "54570756",
   "metadata": {},
   "outputs": [
    {
     "name": "stdout",
     "output_type": "stream",
     "text": [
      "Enter the list length : 5\n",
      "Enter the elements\n",
      "1\n",
      "2\n",
      "3\n",
      "4\n",
      "5\n",
      "The list is : [1, 2, 3, 4, 5]\n",
      "The smallest of the elements in list is : 5\n"
     ]
    }
   ],
   "source": [
    "lst = []\n",
    "\n",
    "n = int(input(\"Enter the list length : \"))\n",
    "print(\"Enter the elements\")\n",
    "for i in range(int(n)):\n",
    "    x = int(input())\n",
    "    lst.append(x)\n",
    "print(\"The list is :\" , lst)\n",
    "        \n",
    "print(\"The smallest of the elements in list is :\" , max(lst))"
   ]
  },
  {
   "cell_type": "code",
   "execution_count": 12,
   "id": "c3a46bd2",
   "metadata": {},
   "outputs": [],
   "source": [
    "5. Write a Python program to find second largest number in a list?"
   ]
  },
  {
   "cell_type": "code",
   "execution_count": 14,
   "id": "6a1407a4",
   "metadata": {},
   "outputs": [
    {
     "name": "stdout",
     "output_type": "stream",
     "text": [
      "Enter the list length : 5\n",
      "Enter the elements\n",
      "5\n",
      "4\n",
      "3\n",
      "2\n",
      "1\n",
      "The list is : [5, 4, 3, 2, 1]\n",
      "The sorted list is : [1, 2, 3, 4, 5]\n",
      "The second largest element in list is : 4\n"
     ]
    }
   ],
   "source": [
    "lst = []\n",
    "\n",
    "n = int(input(\"Enter the list length : \"))\n",
    "print(\"Enter the elements\")\n",
    "for i in range(int(n)):\n",
    "    x = int(input())\n",
    "    lst.append(x)\n",
    "print(\"The list is :\" , lst)\n",
    "\n",
    "lst.sort()\n",
    "\n",
    "print(\"The sorted list is :\" , lst)\n",
    "        \n",
    "print(\"The second largest element in list is :\" , lst[-2])"
   ]
  },
  {
   "cell_type": "code",
   "execution_count": 15,
   "id": "e1ed0e08",
   "metadata": {},
   "outputs": [],
   "source": [
    "#6. Write a Python program to find N largest elements from a list?"
   ]
  },
  {
   "cell_type": "code",
   "execution_count": 17,
   "id": "1455bf80",
   "metadata": {},
   "outputs": [
    {
     "name": "stdout",
     "output_type": "stream",
     "text": [
      "Enter the list length : 10\n",
      "Enter the elements\n",
      "10\n",
      "9\n",
      "8\n",
      "7\n",
      "6\n",
      "5\n",
      "4\n",
      "3\n",
      "2\n",
      "1\n",
      "The list is : [10, 9, 8, 7, 6, 5, 4, 3, 2, 1]\n",
      "The sorted list is : [1, 2, 3, 4, 5, 6, 7, 8, 9, 10]\n",
      "Enter how many largest number u want to see in from the list :5\n",
      "5 largest elements from the list are : [6, 7, 8, 9, 10]\n"
     ]
    }
   ],
   "source": [
    "lst = []\n",
    "\n",
    "n = int(input(\"Enter the list length : \"))\n",
    "print(\"Enter the elements\")\n",
    "for i in range(int(n)):\n",
    "    x = int(input())\n",
    "    lst.append(x)\n",
    "print(\"The list is :\" , lst)\n",
    "\n",
    "lst.sort()\n",
    "\n",
    "print(\"The sorted list is :\" , lst)\n",
    "\n",
    "nlar = int(input(\"Enter how many largest number u want to see in from the list :\"))\n",
    "\n",
    "if nlar > n :\n",
    "    print(\"enterted value is larger then that list length\")\n",
    "else:\n",
    "    print(nlar,\"largest elements from the list are :\",lst[(n-nlar):])"
   ]
  },
  {
   "cell_type": "code",
   "execution_count": null,
   "id": "9a5cd929",
   "metadata": {},
   "outputs": [],
   "source": [
    "7. Write a Python program to print even numbers in a list?"
   ]
  },
  {
   "cell_type": "code",
   "execution_count": 22,
   "id": "4bdc17fb",
   "metadata": {},
   "outputs": [
    {
     "name": "stdout",
     "output_type": "stream",
     "text": [
      "Enter the list length : 10\n",
      "Enter the elements\n",
      "1\n",
      "2\n",
      "3\n",
      "4\n",
      "5\n",
      "6\n",
      "7\n",
      "8\n",
      "9\n",
      "10\n",
      "The list is : [1, 2, 3, 4, 5, 6, 7, 8, 9, 10]\n",
      "The even numbers in the list are  [2, 4, 6, 8, 10]\n"
     ]
    }
   ],
   "source": [
    "lst = []\n",
    "\n",
    "n = int(input(\"Enter the list length : \"))\n",
    "print(\"Enter the elements\")\n",
    "\n",
    "for i in range(int(n)):\n",
    "    x = int(input())\n",
    "    lst.append(x)\n",
    "print(\"The list is :\" , lst)\n",
    "        \n",
    "lst_eve = []\n",
    "\n",
    "\n",
    "\n",
    "for i in range(n):\n",
    "    if lst[i] % 2 == 0 :\n",
    "        lst_eve.append(lst[i])    \n",
    "        \n",
    "print(\"The even numbers in the list are \" , lst_eve) "
   ]
  },
  {
   "cell_type": "code",
   "execution_count": null,
   "id": "1845ee4e",
   "metadata": {},
   "outputs": [],
   "source": [
    "8. Write a Python program to print odd numbers in a List?"
   ]
  },
  {
   "cell_type": "code",
   "execution_count": 23,
   "id": "a823c727",
   "metadata": {},
   "outputs": [
    {
     "name": "stdout",
     "output_type": "stream",
     "text": [
      "Enter the list length : 10\n",
      "Enter the elements\n",
      "1\n",
      "2\n",
      "3\n",
      "4\n",
      "5\n",
      "6\n",
      "7\n",
      "8\n",
      "9\n",
      "10\n",
      "The list is : [1, 2, 3, 4, 5, 6, 7, 8, 9, 10]\n",
      "The odd numbers in the list are  [1, 3, 5, 7, 9]\n"
     ]
    }
   ],
   "source": [
    "lst = []\n",
    "\n",
    "n = int(input(\"Enter the list length : \"))\n",
    "print(\"Enter the elements\")\n",
    "\n",
    "for i in range(int(n)):\n",
    "    x = int(input())\n",
    "    lst.append(x)\n",
    "print(\"The list is :\" , lst)\n",
    "        \n",
    "lst_odd = []\n",
    "\n",
    "\n",
    "for i in range(n):\n",
    "    if lst[i] % 2 != 0 :\n",
    "        lst_odd.append(lst[i])    \n",
    "        \n",
    "print(\"The odd numbers in the list are \" , lst_odd) "
   ]
  },
  {
   "cell_type": "code",
   "execution_count": null,
   "id": "98d59b0b",
   "metadata": {},
   "outputs": [],
   "source": [
    "9. Write a Python program to Remove empty List from List?\n",
    "10. Write a Python program to Cloning or Copying a list?\n",
    "11. Write a Python program to Count occurrences of an element in a list?"
   ]
  },
  {
   "cell_type": "code",
   "execution_count": 31,
   "id": "31cf3579",
   "metadata": {},
   "outputs": [
    {
     "name": "stdout",
     "output_type": "stream",
     "text": [
      "Enter the list length : 5\n",
      "Enter the elements\n",
      "1\n",
      "2\n",
      "[]\n",
      "5\n",
      "6\n",
      "The list is : ['1', '2', '[]', '5', '6']\n",
      "The empty removed in the list are  ['1', '2', '[]', '5', '6']\n"
     ]
    }
   ],
   "source": [
    "lst = []\n",
    "\n",
    "n = str(input(\"Enter the list length : \"))\n",
    "print(\"Enter the elements\")\n",
    "\n",
    "for i in range(int(n)):\n",
    "    x = str(input())\n",
    "    lst.append(x)\n",
    "print(\"The list is :\" , lst)\n",
    "        \n",
    "rem_emp = []\n",
    "\n",
    "for i in range(int(n)):\n",
    "    if lst[i] != [] :\n",
    "        rem_emp.append(lst[i])    \n",
    "        \n",
    "print(\"The empty removed in the list are \" , rem_emp) "
   ]
  },
  {
   "cell_type": "code",
   "execution_count": 32,
   "id": "bd1b0cd2",
   "metadata": {},
   "outputs": [],
   "source": [
    "10. Write a Python program to Cloning or Copying a list?\n"
   ]
  },
  {
   "cell_type": "code",
   "execution_count": 3,
   "id": "666da288",
   "metadata": {},
   "outputs": [
    {
     "name": "stdout",
     "output_type": "stream",
     "text": [
      "Enter the length of your list : 5\n",
      "1\n",
      "2\n",
      "3\n",
      "4\n",
      "5\n",
      "The List is  [1, 2, 3, 4, 5]\n",
      "The cloned/copied list :\n",
      "Cloning By list slicing lst[:]  [1, 2, 3, 4, 5]\n",
      "Cloning By list appending  [1, 2, 3, 4, 5]\n"
     ]
    }
   ],
   "source": [
    "n = int(input(\"Enter the length of your list : \"))\n",
    "lst = []\n",
    "\n",
    "for i in range(n):\n",
    "    lst.append(int(input()))\n",
    "print(\"The List is \",lst)\n",
    "\n",
    "print(\"The cloned/copied list :\")\n",
    "\n",
    "\n",
    "lstcopy1 = lst[:]\n",
    "print(\"Cloning By list slicing lst[:] \",lstcopy1)\n",
    "\n",
    "lstcopy2 = []\n",
    "for i in range(n):\n",
    "    lstcopy2.append(lst[i])\n",
    "print(\"Cloning By list appending \",lstcopy2)"
   ]
  },
  {
   "cell_type": "code",
   "execution_count": 4,
   "id": "325c8844",
   "metadata": {},
   "outputs": [],
   "source": [
    "11. Write a Python program to Count occurrences of an element in a list?"
   ]
  },
  {
   "cell_type": "code",
   "execution_count": 12,
   "id": "9efb5b0a",
   "metadata": {},
   "outputs": [
    {
     "name": "stdout",
     "output_type": "stream",
     "text": [
      "Enter the list length : 10\n",
      "Enter the elements\n",
      "1\n",
      "2\n",
      "3\n",
      "4\n",
      "5\n",
      "1\n",
      "2\n",
      "3\n",
      "4\n",
      "5\n",
      "The list is : [1, 2, 3, 4, 5, 1, 2, 3, 4, 5]\n",
      "Enter the element whose occurance to check :2\n",
      "The number of occurances of the element is  2\n"
     ]
    }
   ],
   "source": [
    "lst = []\n",
    "\n",
    "n = int(input(\"Enter the list length : \"))\n",
    "print(\"Enter the elements\")\n",
    "\n",
    "for i in range(int(n)):\n",
    "    x = int(input())\n",
    "    lst.append(x)\n",
    "print(\"The list is :\" , lst)\n",
    "\n",
    "count = 0\n",
    "\n",
    "n_test = int(input(\"Enter the element whose occurance to check :\"))\n",
    "    \n",
    "for i in range(len(lst)):\n",
    "    if n_test == lst[i]:\n",
    "        count += 1\n",
    "print(\"The number of occurances of the element is \" , count)\n"
   ]
  },
  {
   "cell_type": "code",
   "execution_count": null,
   "id": "efe8c35c",
   "metadata": {},
   "outputs": [],
   "source": []
  }
 ],
 "metadata": {
  "kernelspec": {
   "display_name": "Python 3 (ipykernel)",
   "language": "python",
   "name": "python3"
  },
  "language_info": {
   "codemirror_mode": {
    "name": "ipython",
    "version": 3
   },
   "file_extension": ".py",
   "mimetype": "text/x-python",
   "name": "python",
   "nbconvert_exporter": "python",
   "pygments_lexer": "ipython3",
   "version": "3.9.12"
  }
 },
 "nbformat": 4,
 "nbformat_minor": 5
}
