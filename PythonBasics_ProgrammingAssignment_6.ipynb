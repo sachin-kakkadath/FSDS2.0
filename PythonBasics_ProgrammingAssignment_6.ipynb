{
 "cells": [
  {
   "cell_type": "code",
   "execution_count": null,
   "id": "9dbc92f1",
   "metadata": {},
   "outputs": [],
   "source": [
    "1. Write a Python Program to Display Fibonacci Sequence Using Recursion?\n",
    "2. Write a Python Program to Find Factorial of Number Using Recursion?\n",
    "3. Write a Python Program to calculate your Body Mass Index?\n",
    "4. Write a Python Program to calculate the natural logarithm of any number?\n",
    "5. Write a Python Program for cube sum of first n natural numbers?"
   ]
  },
  {
   "cell_type": "code",
   "execution_count": null,
   "id": "6fc924f5",
   "metadata": {},
   "outputs": [],
   "source": [
    "#1. Write a Python Program to Display Fibonacci Sequence Using Recursion?\n",
    "\n",
    "num = int(input(\"Enter the number : \"))\n",
    "f0 = 0\n",
    "f1 = 1\n",
    "print(f0)\n",
    "print(f1)\n",
    "for i in range(2,num+1):\n",
    "    f2 = f0 + f1\n",
    "    print(f2)\n",
    "    f0 = f1\n",
    "    f1 = f2"
   ]
  },
  {
   "cell_type": "code",
   "execution_count": 1,
   "id": "0bd0429b",
   "metadata": {},
   "outputs": [
    {
     "name": "stdout",
     "output_type": "stream",
     "text": [
      "enter a number to find the fibonacci series : 10\n",
      "Fibonacci series upto  10 :\n",
      "0 1 1 2 3 5 8 13 21 34 "
     ]
    }
   ],
   "source": [
    "def fibo(n):\n",
    "    if(n<=1):\n",
    "        return n\n",
    "    else:\n",
    "        return fibo(n-1)+fibo(n-2)\n",
    "    \n",
    "sequence = int(input(\"enter a number to find the fibonacci series : \"))\n",
    "\n",
    "if sequence <= 0:\n",
    "    print(\"Please enter a positive number\")\n",
    "elif sequence == 1:\n",
    "    print(\"Fibonacci series upto \",sequence, \":\")\n",
    "    print(f1)\n",
    "else:\n",
    "    print(\"Fibonacci series upto \",sequence, \":\")\n",
    "    for i in range(sequence):       \n",
    "        print(fibo(i),end=' ')"
   ]
  },
  {
   "cell_type": "code",
   "execution_count": null,
   "id": "89b6ed03",
   "metadata": {},
   "outputs": [],
   "source": [
    "#2. Write a Python Program to Find Factorial of Number Using Recursion?"
   ]
  },
  {
   "cell_type": "code",
   "execution_count": 14,
   "id": "ca2aecfb",
   "metadata": {},
   "outputs": [
    {
     "name": "stdout",
     "output_type": "stream",
     "text": [
      "enter a number to find the factorial : 3\n",
      "Factorial of  3 : 6\n"
     ]
    }
   ],
   "source": [
    "def fact(n):  \n",
    "    if n == 1:\n",
    "        return n\n",
    "    else:\n",
    "        return n * fact(n-1) \n",
    "    \n",
    "n = int(input(\"enter a number to find the factorial : \"))\n",
    "\n",
    "if sequence < 0:\n",
    "    print(\"We can not calculate the factorial of a negative number\")\n",
    "elif sequence == 0:\n",
    "    print(\"Factorial of zero is 1 \")\n",
    "else:\n",
    "    print(\"Factorial of \",sequence, \":\" ,fact(n))"
   ]
  },
  {
   "cell_type": "code",
   "execution_count": 15,
   "id": "bfd58526",
   "metadata": {},
   "outputs": [
    {
     "name": "stdout",
     "output_type": "stream",
     "text": [
      "enter your height in feet : 6\n",
      "enter your weight in kilo : 75\n",
      "The BIM is =  2.0833333333333335\n"
     ]
    }
   ],
   "source": [
    "#3. Write a Python Program to calculate your Body Mass Index?\n",
    "# BMI = weight / Height * height\n",
    "\n",
    "h = float(input(\"enter your height in feet : \"))\n",
    "w = float(input(\"enter your weight in kilo : \"))\n",
    "\n",
    "bmi = w/(h**2)\n",
    "\n",
    "print(\"The BIM is = \",bmi)\n"
   ]
  },
  {
   "cell_type": "code",
   "execution_count": 23,
   "id": "5117b23b",
   "metadata": {},
   "outputs": [
    {
     "name": "stdout",
     "output_type": "stream",
     "text": [
      "Enter the number : 3\n",
      "The natural logarithm of 3 is 1.0986122886681098\n"
     ]
    }
   ],
   "source": [
    "#4. Write a Python Program to calculate the natural logarithm of any number?\n",
    "import math\n",
    "num = int(input(\"Enter the number : \"))\n",
    "log = math.log(n)\n",
    "\n",
    "print(\"The natural logarithm of {} is {}\". format (num,log))"
   ]
  },
  {
   "cell_type": "code",
   "execution_count": 2,
   "id": "9535f393",
   "metadata": {},
   "outputs": [
    {
     "name": "stdout",
     "output_type": "stream",
     "text": [
      "Enter the number : 3\n",
      "36\n"
     ]
    }
   ],
   "source": [
    "#5. Write a Python Program for cube sum of first n natural numbers?\n",
    "\n",
    "num = int(input(\"Enter the number : \"))\n",
    "sum = 0\n",
    "for i in range(0,num+1):\n",
    "    sum = sum + (i*i*i)\n",
    "print(sum)"
   ]
  },
  {
   "cell_type": "code",
   "execution_count": null,
   "id": "b26c78b8",
   "metadata": {},
   "outputs": [],
   "source": []
  }
 ],
 "metadata": {
  "kernelspec": {
   "display_name": "Python 3 (ipykernel)",
   "language": "python",
   "name": "python3"
  },
  "language_info": {
   "codemirror_mode": {
    "name": "ipython",
    "version": 3
   },
   "file_extension": ".py",
   "mimetype": "text/x-python",
   "name": "python",
   "nbconvert_exporter": "python",
   "pygments_lexer": "ipython3",
   "version": "3.9.12"
  }
 },
 "nbformat": 4,
 "nbformat_minor": 5
}
