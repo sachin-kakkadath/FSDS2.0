{
 "cells": [
  {
   "cell_type": "markdown",
   "id": "bae0f4ff",
   "metadata": {},
   "source": [
    "Question 1\n",
    "Create a function that takes a number as an argument and returns True or False depending\n",
    "on whether the number is symmetrical or not. A number is symmetrical when it is the same as\n",
    "its reverse.\n",
    "Examples\n",
    "is_symmetrical(7227) ➞ True\n",
    "is_symmetrical(12567) ➞ False\n",
    "is_symmetrical(44444444) ➞ True\n",
    "is_symmetrical(9939) ➞ False\n",
    "is_symmetrical(1112111) ➞ True"
   ]
  },
  {
   "cell_type": "code",
   "execution_count": 5,
   "id": "4aefb784",
   "metadata": {},
   "outputs": [],
   "source": [
    "def sym_check(n):\n",
    "    return str(n) == str(n)[ ::-1]"
   ]
  },
  {
   "cell_type": "code",
   "execution_count": 8,
   "id": "1d16225c",
   "metadata": {},
   "outputs": [
    {
     "data": {
      "text/plain": [
       "True"
      ]
     },
     "execution_count": 8,
     "metadata": {},
     "output_type": "execute_result"
    }
   ],
   "source": [
    "sym_check(7227)"
   ]
  },
  {
   "cell_type": "code",
   "execution_count": 9,
   "id": "c92cacc7",
   "metadata": {},
   "outputs": [
    {
     "data": {
      "text/plain": [
       "False"
      ]
     },
     "execution_count": 9,
     "metadata": {},
     "output_type": "execute_result"
    }
   ],
   "source": [
    "sym_check(12567)"
   ]
  },
  {
   "cell_type": "code",
   "execution_count": 10,
   "id": "09f960ed",
   "metadata": {},
   "outputs": [
    {
     "data": {
      "text/plain": [
       "True"
      ]
     },
     "execution_count": 10,
     "metadata": {},
     "output_type": "execute_result"
    }
   ],
   "source": [
    "sym_check(44444)"
   ]
  },
  {
   "cell_type": "code",
   "execution_count": 11,
   "id": "e35f1626",
   "metadata": {},
   "outputs": [
    {
     "data": {
      "text/plain": [
       "False"
      ]
     },
     "execution_count": 11,
     "metadata": {},
     "output_type": "execute_result"
    }
   ],
   "source": [
    "sym_check(9939)"
   ]
  },
  {
   "cell_type": "code",
   "execution_count": 12,
   "id": "f285e4f1",
   "metadata": {},
   "outputs": [
    {
     "data": {
      "text/plain": [
       "True"
      ]
     },
     "execution_count": 12,
     "metadata": {},
     "output_type": "execute_result"
    }
   ],
   "source": [
    "sym_check(1112111)"
   ]
  },
  {
   "cell_type": "markdown",
   "id": "0d3a9e51",
   "metadata": {},
   "source": [
    "Question 2\n",
    "Given a string of numbers separated by a comma and space, return the product of the\n",
    "numbers.\n",
    "Examples\n",
    "multiply_nums(&quot;2, 3&quot;) ➞ 6\n",
    "multiply_nums(&quot;1, 2, 3, 4&quot;) ➞ 24\n",
    "multiply_nums(&quot;54, 75, 453, 0&quot;) ➞ 0\n",
    "multiply_nums(&quot;10, -2&quot;) ➞ -20"
   ]
  },
  {
   "cell_type": "code",
   "execution_count": 13,
   "id": "0bce3b9b",
   "metadata": {},
   "outputs": [],
   "source": [
    "def multiply_numbers(s):\n",
    "    nums = [int(x) for x in s.split(', ')]\n",
    "    product = 1\n",
    "    for num in nums:\n",
    "        product *= num\n",
    "    return product"
   ]
  },
  {
   "cell_type": "code",
   "execution_count": 16,
   "id": "ee93a558",
   "metadata": {},
   "outputs": [
    {
     "data": {
      "text/plain": [
       "24"
      ]
     },
     "execution_count": 16,
     "metadata": {},
     "output_type": "execute_result"
    }
   ],
   "source": [
    "multiply_numbers(\"1, 2, 3, 4\")"
   ]
  },
  {
   "cell_type": "code",
   "execution_count": 18,
   "id": "68932ac6",
   "metadata": {},
   "outputs": [
    {
     "data": {
      "text/plain": [
       "0"
      ]
     },
     "execution_count": 18,
     "metadata": {},
     "output_type": "execute_result"
    }
   ],
   "source": [
    "multiply_numbers(\"54, 75, 453, 0\")"
   ]
  },
  {
   "cell_type": "markdown",
   "id": "3642ef38",
   "metadata": {},
   "source": [
    "Question 3\n",
    "\n",
    "\n",
    "Create a function that squares every digit of a number.\n",
    "Examples\n",
    "square_digits(9119) ➞ 811181\n",
    "square_digits(2483) ➞ 416649\n",
    "square_digits(3212) ➞ 9414"
   ]
  },
  {
   "cell_type": "code",
   "execution_count": 23,
   "id": "677aba92",
   "metadata": {},
   "outputs": [],
   "source": [
    "def square_digits(n):\n",
    "    str_n = str(n)\n",
    "    squared_str = ''\n",
    "    for digit in str_n:\n",
    "        squared_str += str(int(digit)**2)\n",
    "    return int(squared_str)"
   ]
  },
  {
   "cell_type": "code",
   "execution_count": 24,
   "id": "52b7e8a6",
   "metadata": {},
   "outputs": [
    {
     "data": {
      "text/plain": [
       "811181"
      ]
     },
     "execution_count": 24,
     "metadata": {},
     "output_type": "execute_result"
    }
   ],
   "source": [
    "square_digits(9119)"
   ]
  },
  {
   "cell_type": "code",
   "execution_count": 25,
   "id": "95028c6a",
   "metadata": {},
   "outputs": [
    {
     "data": {
      "text/plain": [
       "9414"
      ]
     },
     "execution_count": 25,
     "metadata": {},
     "output_type": "execute_result"
    }
   ],
   "source": [
    "square_digits(3212)"
   ]
  },
  {
   "cell_type": "markdown",
   "id": "09847338",
   "metadata": {},
   "source": [
    "Question 4\n",
    "Create a function that sorts a list and removes all duplicate items from it.\n",
    "Examples\n",
    "setify([1, 3, 3, 5, 5]) ➞ [1, 3, 5]\n",
    "setify([4, 4, 4, 4]) ➞ [4]\n",
    "setify([5, 7, 8, 9, 10, 15]) ➞ [5, 7, 8, 9, 10, 15]\n",
    "setify([3, 3, 3, 2, 1]) ➞ [1, 2, 3]"
   ]
  },
  {
   "cell_type": "code",
   "execution_count": 29,
   "id": "41bddd35",
   "metadata": {},
   "outputs": [],
   "source": [
    "def sort_list(lst):\n",
    "    lst_unique =[]\n",
    "    for i in lst:\n",
    "        if i not in lst_unique:\n",
    "            lst_unique.append(i)\n",
    "    return lst_unique"
   ]
  },
  {
   "cell_type": "code",
   "execution_count": 30,
   "id": "9bb94ef0",
   "metadata": {},
   "outputs": [
    {
     "data": {
      "text/plain": [
       "[1, 3, 5]"
      ]
     },
     "execution_count": 30,
     "metadata": {},
     "output_type": "execute_result"
    }
   ],
   "source": [
    "sort_list([1, 3, 3, 5, 5])"
   ]
  },
  {
   "cell_type": "code",
   "execution_count": 31,
   "id": "5db90da6",
   "metadata": {},
   "outputs": [
    {
     "data": {
      "text/plain": [
       "[4]"
      ]
     },
     "execution_count": 31,
     "metadata": {},
     "output_type": "execute_result"
    }
   ],
   "source": [
    "sort_list([4,4,4,4])"
   ]
  },
  {
   "cell_type": "markdown",
   "id": "0290e9b6",
   "metadata": {},
   "source": [
    "Question 5\n",
    "Create a function that returns the mean of all digits.\n",
    "Examples\n",
    "mean(42) ➞ 3\n",
    "mean(12345) ➞ 3\n",
    "mean(666) ➞ 6\n",
    "Notes\n",
    " The mean of all digits is the sum of digits / how many digits there are (e.g. mean of digits in\n",
    "512 is (5+1+2)/3(number of digits) = 8/3=2).\n",
    " The mean will always be an integer."
   ]
  },
  {
   "cell_type": "code",
   "execution_count": 40,
   "id": "52a2f455",
   "metadata": {},
   "outputs": [],
   "source": [
    "def mean_digits(n):\n",
    "    str_n = str(n)\n",
    "    sum_str = 0\n",
    "    for digit in str_n:\n",
    "        sum_str += int(digit)\n",
    "    mean = sum_str / len(str_n)\n",
    "    return mean"
   ]
  },
  {
   "cell_type": "code",
   "execution_count": 41,
   "id": "d09c98c5",
   "metadata": {},
   "outputs": [
    {
     "data": {
      "text/plain": [
       "2.6666666666666665"
      ]
     },
     "execution_count": 41,
     "metadata": {},
     "output_type": "execute_result"
    }
   ],
   "source": [
    "mean_digits(512)"
   ]
  },
  {
   "cell_type": "code",
   "execution_count": 43,
   "id": "3de663ca",
   "metadata": {},
   "outputs": [
    {
     "data": {
      "text/plain": [
       "4.0"
      ]
     },
     "execution_count": 43,
     "metadata": {},
     "output_type": "execute_result"
    }
   ],
   "source": [
    "mean_digits(44)"
   ]
  },
  {
   "cell_type": "code",
   "execution_count": null,
   "id": "11f1e9fd",
   "metadata": {},
   "outputs": [],
   "source": []
  }
 ],
 "metadata": {
  "kernelspec": {
   "display_name": "Python 3 (ipykernel)",
   "language": "python",
   "name": "python3"
  },
  "language_info": {
   "codemirror_mode": {
    "name": "ipython",
    "version": 3
   },
   "file_extension": ".py",
   "mimetype": "text/x-python",
   "name": "python",
   "nbconvert_exporter": "python",
   "pygments_lexer": "ipython3",
   "version": "3.9.12"
  }
 },
 "nbformat": 4,
 "nbformat_minor": 5
}
