{
 "cells": [
  {
   "cell_type": "markdown",
   "id": "88231ea4",
   "metadata": {},
   "source": [
    "1. Write a Python Program to Add Two Matrices?\n",
    "2. Write a Python Program to Multiply Two Matrices?\n",
    "3. Write a Python Program to Transpose a Matrix?\n",
    "4. Write a Python Program to Sort Words in Alphabetic Order?\n",
    "5. Write a Python Program to Remove Punctuation From a String?"
   ]
  },
  {
   "cell_type": "code",
   "execution_count": 1,
   "id": "6458b0ed",
   "metadata": {},
   "outputs": [],
   "source": [
    "#Write a Python Program to Add Two Matrices?"
   ]
  },
  {
   "cell_type": "code",
   "execution_count": 2,
   "id": "35e9b99c",
   "metadata": {},
   "outputs": [],
   "source": [
    "def add_mat(X,Y):\n",
    "    result = [[X[i][j] + Y[i][j]  for j in range(len(X[0]))] for i in range(len(X))] \n",
    "    return result"
   ]
  },
  {
   "cell_type": "code",
   "execution_count": 3,
   "id": "38177b1b",
   "metadata": {},
   "outputs": [],
   "source": [
    "X = [[12,7,3],\n",
    "    [4 ,5,6],\n",
    "    [7 ,8,9]]\n",
    "\n",
    "Y = [[5,8,1],\n",
    "    [6,7,3],\n",
    "    [4,5,9]]"
   ]
  },
  {
   "cell_type": "code",
   "execution_count": 4,
   "id": "31075081",
   "metadata": {},
   "outputs": [
    {
     "data": {
      "text/plain": [
       "[[17, 15, 4], [10, 12, 9], [11, 13, 18]]"
      ]
     },
     "execution_count": 4,
     "metadata": {},
     "output_type": "execute_result"
    }
   ],
   "source": [
    "add_mat(X,Y)"
   ]
  },
  {
   "cell_type": "code",
   "execution_count": 5,
   "id": "2bf95758",
   "metadata": {},
   "outputs": [],
   "source": [
    "#Write a Python Program to Multiply Two Matrices?"
   ]
  },
  {
   "cell_type": "code",
   "execution_count": 6,
   "id": "a96e1ce0",
   "metadata": {},
   "outputs": [],
   "source": [
    "def mult_mat(X,Y):\n",
    "    result = [[X[i][j] * Y[i][j]  for j in range(len(X[0]))] for i in range(len(X))] \n",
    "    return result"
   ]
  },
  {
   "cell_type": "code",
   "execution_count": 7,
   "id": "397430e1",
   "metadata": {},
   "outputs": [],
   "source": [
    "X = [[12,7,3],\n",
    "    [4 ,5,6],\n",
    "    [7 ,8,9]]\n",
    "\n",
    "Y = [[5,8,1],\n",
    "    [6,7,3],\n",
    "    [4,5,9]]"
   ]
  },
  {
   "cell_type": "code",
   "execution_count": 8,
   "id": "de64ffc5",
   "metadata": {},
   "outputs": [
    {
     "data": {
      "text/plain": [
       "[[60, 56, 3], [24, 35, 18], [28, 40, 81]]"
      ]
     },
     "execution_count": 8,
     "metadata": {},
     "output_type": "execute_result"
    }
   ],
   "source": [
    "mult_mat(X,Y)"
   ]
  },
  {
   "cell_type": "code",
   "execution_count": 9,
   "id": "5cd94ac5",
   "metadata": {},
   "outputs": [],
   "source": [
    "#Write a Python Program to Transpose a Matrix?"
   ]
  },
  {
   "cell_type": "code",
   "execution_count": 10,
   "id": "c333bcbf",
   "metadata": {},
   "outputs": [],
   "source": [
    "def transpose_matrix(matrix):\n",
    "    num_rows = len(matrix)\n",
    "    num_cols = len(matrix[0])\n",
    "    \n",
    "    transpose = [[0 for x in range(num_rows)] for y in range(num_cols)]\n",
    "\n",
    "    for i in range(num_rows):\n",
    "        for j in range(num_cols):\n",
    "            transpose[j][i] = matrix[i][j]\n",
    "\n",
    "    return transpose"
   ]
  },
  {
   "cell_type": "code",
   "execution_count": 11,
   "id": "2cc96bea",
   "metadata": {},
   "outputs": [
    {
     "data": {
      "text/plain": [
       "[[12, 4, 7], [7, 5, 8], [3, 6, 9]]"
      ]
     },
     "execution_count": 11,
     "metadata": {},
     "output_type": "execute_result"
    }
   ],
   "source": [
    "transpose_matrix(X)"
   ]
  },
  {
   "cell_type": "code",
   "execution_count": 12,
   "id": "9cfc935f",
   "metadata": {},
   "outputs": [],
   "source": [
    "#Write a Python Program to Sort Words in Alphabetic Order?"
   ]
  },
  {
   "cell_type": "code",
   "execution_count": 16,
   "id": "9b667b34",
   "metadata": {},
   "outputs": [],
   "source": [
    "def sort(strings):\n",
    "    W = strings.split(\" \")\n",
    "    for i in range(len(W)):\n",
    "        W[i] = W[i].lower()\n",
    "    S= sorted(W)\n",
    "    print(\" \".join(S))"
   ]
  },
  {
   "cell_type": "code",
   "execution_count": 17,
   "id": "0f81dae3",
   "metadata": {},
   "outputs": [],
   "source": [
    "S = \"the Quick brown fox jumPs over the lazY Dog\""
   ]
  },
  {
   "cell_type": "code",
   "execution_count": 18,
   "id": "3d6a36d5",
   "metadata": {},
   "outputs": [
    {
     "name": "stdout",
     "output_type": "stream",
     "text": [
      "brown dog fox jumps lazy over quick the the\n"
     ]
    }
   ],
   "source": [
    "sort(S)"
   ]
  },
  {
   "cell_type": "code",
   "execution_count": 19,
   "id": "825767b4",
   "metadata": {},
   "outputs": [],
   "source": [
    "#Write a Python Program to Remove Punctuation From a String?"
   ]
  },
  {
   "cell_type": "code",
   "execution_count": 29,
   "id": "29c949d7",
   "metadata": {},
   "outputs": [],
   "source": [
    "import string\n",
    "import re\n",
    "\n",
    "\n",
    "text = \"Hello, World! How are you?\"\n",
    "\n",
    "def no_punc(text):\n",
    "    punctuations = string.punctuation\n",
    "    no_punctuations = \"\".join([char for char in text if char not in punctuations])\n",
    "    return no_punctuations"
   ]
  },
  {
   "cell_type": "code",
   "execution_count": 30,
   "id": "6f0c231a",
   "metadata": {},
   "outputs": [
    {
     "data": {
      "text/plain": [
       "'Hello World How are you'"
      ]
     },
     "execution_count": 30,
     "metadata": {},
     "output_type": "execute_result"
    }
   ],
   "source": [
    "no_punc(text)"
   ]
  },
  {
   "cell_type": "code",
   "execution_count": null,
   "id": "22fc9518",
   "metadata": {},
   "outputs": [],
   "source": []
  }
 ],
 "metadata": {
  "kernelspec": {
   "display_name": "Python 3 (ipykernel)",
   "language": "python",
   "name": "python3"
  },
  "language_info": {
   "codemirror_mode": {
    "name": "ipython",
    "version": 3
   },
   "file_extension": ".py",
   "mimetype": "text/x-python",
   "name": "python",
   "nbconvert_exporter": "python",
   "pygments_lexer": "ipython3",
   "version": "3.9.12"
  }
 },
 "nbformat": 4,
 "nbformat_minor": 5
}
