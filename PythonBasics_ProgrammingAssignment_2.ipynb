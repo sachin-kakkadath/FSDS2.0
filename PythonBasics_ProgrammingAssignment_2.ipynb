{
 "cells": [
  {
   "cell_type": "code",
   "execution_count": null,
   "id": "de3d9adf",
   "metadata": {},
   "outputs": [],
   "source": [
    "#1. Write a Python program to convert kilometers to miles?\n"
   ]
  },
  {
   "cell_type": "code",
   "execution_count": 5,
   "id": "38d895b3",
   "metadata": {},
   "outputs": [
    {
     "name": "stdout",
     "output_type": "stream",
     "text": [
      "Enter the km :56\n",
      "Converted value in ile :  34.78\n"
     ]
    }
   ],
   "source": [
    " x = float(input(\"Enter the km :\"))\n",
    "\n",
    "mile = 0.621 * x\n",
    "\n",
    "print(\"Converted value in mile : \",round(mile,2))"
   ]
  },
  {
   "cell_type": "code",
   "execution_count": 6,
   "id": "3465c049",
   "metadata": {},
   "outputs": [
    {
     "name": "stdout",
     "output_type": "stream",
     "text": [
      "Enter the temperature Degree celsius :98\n",
      "Converted value in farenheit :  208.4\n"
     ]
    }
   ],
   "source": [
    "#2. Write a Python program to convert Celsius to Fahrenheit?\n",
    "x = float(input(\"Enter the temperature Degree celsius :\"))\n",
    "\n",
    "farenheit = (1.8 * x) + 32\n",
    "\n",
    "print(\"Converted value in farenheit : \",round(farenheit,2))"
   ]
  },
  {
   "cell_type": "code",
   "execution_count": 10,
   "id": "48c7cfc8",
   "metadata": {},
   "outputs": [
    {
     "name": "stdout",
     "output_type": "stream",
     "text": [
      "Enter year: 2022\n",
      "Enter month: 12\n",
      "\n",
      "\n",
      "   December 2022\n",
      "Mo Tu We Th Fr Sa Su\n",
      "          1  2  3  4\n",
      " 5  6  7  8  9 10 11\n",
      "12 13 14 15 16 17 18\n",
      "19 20 21 22 23 24 25\n",
      "26 27 28 29 30 31\n",
      "\n"
     ]
    }
   ],
   "source": [
    "#3. Write a Python program to display calendar?\n",
    "\n",
    "import calendar\n",
    "\n",
    "yy = int(input(\"Enter year: \"))\n",
    "mm = int(input(\"Enter month: \"))\n",
    "print(\"\\n\")\n",
    "print(calendar.month(yy, mm))"
   ]
  },
  {
   "cell_type": "code",
   "execution_count": 14,
   "id": "12ae827c",
   "metadata": {},
   "outputs": [
    {
     "name": "stdout",
     "output_type": "stream",
     "text": [
      "3\n",
      "4\n",
      "5\n",
      "The roots are\n",
      "First root : (-0.6666666666666666-1.1055415967851332j)\n",
      "Second root :  (-0.6666666666666666+1.1055415967851332j)\n"
     ]
    }
   ],
   "source": [
    "#4. Write a Python program to solve quadratic equation?\n",
    "\n",
    "import cmath\n",
    "  \n",
    "a = float(input())\n",
    "b = float(input())\n",
    "c = float(input())\n",
    "  \n",
    "dis = (b**2) - (4 * a*c)\n",
    "  \n",
    "root1 = (-b-cmath.sqrt(dis))/(2 * a)\n",
    "root2 = (-b + cmath.sqrt(dis))/(2 * a)\n",
    "  \n",
    "print('The roots are')\n",
    "print(\"First root :\" ,root1)\n",
    "print(\"Second root : \",root2)\n"
   ]
  },
  {
   "cell_type": "code",
   "execution_count": 22,
   "id": "9f99acea",
   "metadata": {},
   "outputs": [
    {
     "name": "stdout",
     "output_type": "stream",
     "text": [
      "3\n",
      "4\n",
      "new_a : 4\n",
      "new_b : 3\n"
     ]
    }
   ],
   "source": [
    "#5. Write a Python program to swap two variables without temp variable?\n",
    "\n",
    "a = int(input())\n",
    "b = int(input())\n",
    "\n",
    "a,b = b,a\n",
    "\n",
    "print(\"new_a :\" ,a)\n",
    "print(\"new_b :\" ,b)"
   ]
  },
  {
   "cell_type": "code",
   "execution_count": null,
   "id": "422909e9",
   "metadata": {},
   "outputs": [],
   "source": []
  }
 ],
 "metadata": {
  "kernelspec": {
   "display_name": "Python 3 (ipykernel)",
   "language": "python",
   "name": "python3"
  },
  "language_info": {
   "codemirror_mode": {
    "name": "ipython",
    "version": 3
   },
   "file_extension": ".py",
   "mimetype": "text/x-python",
   "name": "python",
   "nbconvert_exporter": "python",
   "pygments_lexer": "ipython3",
   "version": "3.9.12"
  }
 },
 "nbformat": 4,
 "nbformat_minor": 5
}
