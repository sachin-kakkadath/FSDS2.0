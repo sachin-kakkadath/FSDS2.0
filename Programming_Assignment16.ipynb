{
 "cells": [
  {
   "cell_type": "markdown",
   "id": "6a4553e4",
   "metadata": {},
   "source": [
    "Question1. Write a function that stutters a word as if someone is struggling to read it. The\n",
    "first two letters are repeated twice with an ellipsis ... and space after each, and then the\n",
    "word is pronounced with a question mark ?.\n",
    "Examples\n",
    "stutter(&quot;incredible&quot;) ➞ &quot;in... in... incredible?&quot;\n",
    "stutter(&quot;enthusiastic&quot;) ➞ &quot;en... en... enthusiastic?&quot;\n",
    "stutter(&quot;outstanding&quot;) ➞ &quot;ou... ou... outstanding?&quot;\n",
    "\n",
    "Hint :- Assume all input is in lower case and at least two characters long."
   ]
  },
  {
   "cell_type": "code",
   "execution_count": 10,
   "id": "0c0cf0c8",
   "metadata": {},
   "outputs": [],
   "source": [
    "def stutter(word):\n",
    "    new_word = word[:2]+\"...\"+word[:2]+\"...\"+word+\"?\"\n",
    "    return new_word"
   ]
  },
  {
   "cell_type": "code",
   "execution_count": 11,
   "id": "231c7e74",
   "metadata": {},
   "outputs": [
    {
     "data": {
      "text/plain": [
       "'sa...sa...sachin?'"
      ]
     },
     "execution_count": 11,
     "metadata": {},
     "output_type": "execute_result"
    }
   ],
   "source": [
    "stutter(\"sachin\")"
   ]
  },
  {
   "cell_type": "code",
   "execution_count": 12,
   "id": "e9f74bb1",
   "metadata": {},
   "outputs": [
    {
     "data": {
      "text/plain": [
       "'in...in...incredible?'"
      ]
     },
     "execution_count": 12,
     "metadata": {},
     "output_type": "execute_result"
    }
   ],
   "source": [
    "stutter(\"incredible\")"
   ]
  },
  {
   "cell_type": "code",
   "execution_count": 13,
   "id": "e85cdbe6",
   "metadata": {},
   "outputs": [
    {
     "data": {
      "text/plain": [
       "'en...en...enthusiastic?'"
      ]
     },
     "execution_count": 13,
     "metadata": {},
     "output_type": "execute_result"
    }
   ],
   "source": [
    "stutter(\"enthusiastic\")"
   ]
  },
  {
   "cell_type": "code",
   "execution_count": null,
   "id": "6e321cba",
   "metadata": {},
   "outputs": [],
   "source": []
  },
  {
   "cell_type": "markdown",
   "id": "a438dd87",
   "metadata": {},
   "source": [
    "Question 2.Create a function that takes an angle in radians and returns the corresponding\n",
    "angle in degrees rounded to one decimal place.\n",
    "Examples\n",
    "radians_to_degrees(1) ➞ 57.3\n",
    "radians_to_degrees(20) ➞ 1145.9\n",
    "radians_to_degrees(50) ➞ 2864.8"
   ]
  },
  {
   "cell_type": "code",
   "execution_count": 17,
   "id": "ac8aa459",
   "metadata": {},
   "outputs": [],
   "source": [
    "def radians_to_degrees(rad):\n",
    "    deg = rad * 180 / 3.14\n",
    "    return round(deg,2)"
   ]
  },
  {
   "cell_type": "code",
   "execution_count": 18,
   "id": "8dcfa776",
   "metadata": {},
   "outputs": [
    {
     "data": {
      "text/plain": [
       "57.32"
      ]
     },
     "execution_count": 18,
     "metadata": {},
     "output_type": "execute_result"
    }
   ],
   "source": [
    "radians_to_degrees(1)"
   ]
  },
  {
   "cell_type": "code",
   "execution_count": 19,
   "id": "95c3b9c2",
   "metadata": {},
   "outputs": [
    {
     "data": {
      "text/plain": [
       "1146.5"
      ]
     },
     "execution_count": 19,
     "metadata": {},
     "output_type": "execute_result"
    }
   ],
   "source": [
    "radians_to_degrees(20)"
   ]
  },
  {
   "cell_type": "code",
   "execution_count": 20,
   "id": "ec2cf772",
   "metadata": {},
   "outputs": [
    {
     "data": {
      "text/plain": [
       "2866.24"
      ]
     },
     "execution_count": 20,
     "metadata": {},
     "output_type": "execute_result"
    }
   ],
   "source": [
    "radians_to_degrees(50)"
   ]
  },
  {
   "cell_type": "code",
   "execution_count": null,
   "id": "ef243f3c",
   "metadata": {},
   "outputs": [],
   "source": []
  },
  {
   "cell_type": "markdown",
   "id": "d5e2055f",
   "metadata": {},
   "source": [
    "Question 3. In this challenge, establish if a given integer num is a Curzon number. If 1 plus\n",
    "2 elevated to num is exactly divisible by 1 plus 2 multiplied by num, then num is a Curzon\n",
    "number.\n",
    "Given a non-negative integer num, implement a function that returns True if num is a Curzon\n",
    "number, or False otherwise."
   ]
  },
  {
   "cell_type": "code",
   "execution_count": 21,
   "id": "d7df2dcb",
   "metadata": {},
   "outputs": [],
   "source": [
    "def is_curzon_number(num):\n",
    "    numerator = 2 ** num + 1\n",
    "    denominator = 2 * num + 1\n",
    "    return numerator % denominator == 0"
   ]
  },
  {
   "cell_type": "code",
   "execution_count": 22,
   "id": "7a7b6aac",
   "metadata": {},
   "outputs": [
    {
     "data": {
      "text/plain": [
       "True"
      ]
     },
     "execution_count": 22,
     "metadata": {},
     "output_type": "execute_result"
    }
   ],
   "source": [
    "is_curzon_number(33)"
   ]
  },
  {
   "cell_type": "code",
   "execution_count": 23,
   "id": "10451d5a",
   "metadata": {},
   "outputs": [
    {
     "data": {
      "text/plain": [
       "False"
      ]
     },
     "execution_count": 23,
     "metadata": {},
     "output_type": "execute_result"
    }
   ],
   "source": [
    "is_curzon_number(10)"
   ]
  },
  {
   "cell_type": "code",
   "execution_count": 24,
   "id": "6918c7b3",
   "metadata": {},
   "outputs": [
    {
     "data": {
      "text/plain": [
       "True"
      ]
     },
     "execution_count": 24,
     "metadata": {},
     "output_type": "execute_result"
    }
   ],
   "source": [
    "is_curzon_number(5)"
   ]
  },
  {
   "cell_type": "code",
   "execution_count": null,
   "id": "8ab8226a",
   "metadata": {},
   "outputs": [],
   "source": []
  },
  {
   "cell_type": "markdown",
   "id": "830f6fc3",
   "metadata": {},
   "source": [
    "Question 4.Given the side length x find the area of a hexagon."
   ]
  },
  {
   "cell_type": "code",
   "execution_count": 25,
   "id": "21889c1a",
   "metadata": {},
   "outputs": [],
   "source": [
    "import math\n",
    "\n",
    "def calculate_hexagon_area(x):\n",
    "    area = (3 * math.sqrt(3) * x ** 2) / 2\n",
    "    return area"
   ]
  },
  {
   "cell_type": "code",
   "execution_count": null,
   "id": "311fe808",
   "metadata": {},
   "outputs": [],
   "source": []
  },
  {
   "cell_type": "markdown",
   "id": "6328ff39",
   "metadata": {},
   "source": [
    "Question 5. Create a function that returns a base-2 (binary) representation of a base-10\n",
    "(decimal) string number. To convert is simple: ((2) means base-2 and (10) means base-10)\n",
    "010101001(2) = 1 + 8 + 32 + 128.\n",
    "Going from right to left, the value of the most right bit is 1, now from that every bit to the left\n",
    "will be x2 the value, value of an 8 bit binary numbers are (256, 128, 64, 32, 16, 8, 4, 2, 1)."
   ]
  },
  {
   "cell_type": "code",
   "execution_count": 26,
   "id": "0b5db0da",
   "metadata": {},
   "outputs": [],
   "source": [
    "def decimal_to_binary(decimal_number):\n",
    "    binary_number = bin(decimal_number)[2:]\n",
    "    return binary_number"
   ]
  },
  {
   "cell_type": "code",
   "execution_count": 27,
   "id": "98fe8758",
   "metadata": {},
   "outputs": [
    {
     "data": {
      "text/plain": [
       "'1010'"
      ]
     },
     "execution_count": 27,
     "metadata": {},
     "output_type": "execute_result"
    }
   ],
   "source": [
    "decimal_to_binary(10)"
   ]
  },
  {
   "cell_type": "code",
   "execution_count": 28,
   "id": "20144999",
   "metadata": {},
   "outputs": [
    {
     "data": {
      "text/plain": [
       "'1100100'"
      ]
     },
     "execution_count": 28,
     "metadata": {},
     "output_type": "execute_result"
    }
   ],
   "source": [
    "decimal_to_binary(100)"
   ]
  },
  {
   "cell_type": "code",
   "execution_count": null,
   "id": "09f2d151",
   "metadata": {},
   "outputs": [],
   "source": []
  }
 ],
 "metadata": {
  "kernelspec": {
   "display_name": "Python 3 (ipykernel)",
   "language": "python",
   "name": "python3"
  },
  "language_info": {
   "codemirror_mode": {
    "name": "ipython",
    "version": 3
   },
   "file_extension": ".py",
   "mimetype": "text/x-python",
   "name": "python",
   "nbconvert_exporter": "python",
   "pygments_lexer": "ipython3",
   "version": "3.9.12"
  }
 },
 "nbformat": 4,
 "nbformat_minor": 5
}
