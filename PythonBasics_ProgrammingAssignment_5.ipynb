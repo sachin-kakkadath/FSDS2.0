{
 "cells": [
  {
   "cell_type": "code",
   "execution_count": null,
   "id": "4ad96baf",
   "metadata": {},
   "outputs": [],
   "source": [
    "#1. Write a Python Program to Find LCM?\n",
    "#2. Write a Python Program to Find HCF?\n",
    "#3. Write a Python Program to Convert Decimal to Binary, Octal and Hexadecimal?\n",
    "#4. Write a Python Program To Find ASCII value of a character?\n",
    "#5. Write a Python Program to Make a Simple Calculator with 4 basic mathematical operations?"
   ]
  },
  {
   "cell_type": "code",
   "execution_count": 2,
   "id": "0d736036",
   "metadata": {},
   "outputs": [],
   "source": [
    "#1. Write a Python Program to Find LCM?"
   ]
  },
  {
   "cell_type": "code",
   "execution_count": 7,
   "id": "9a522ab5",
   "metadata": {},
   "outputs": [
    {
     "name": "stdout",
     "output_type": "stream",
     "text": [
      "3\n",
      "6\n",
      "LCM is :  6\n"
     ]
    }
   ],
   "source": [
    "a = int(input())\n",
    "b = int(input())\n",
    "\n",
    "if a>b :\n",
    "    min1 = a\n",
    "else:\n",
    "    min1 = b\n",
    "\n",
    "while(1):\n",
    "    if(min1%a == 0 and min1%b == 0):\n",
    "        print(\"LCM is : \", min1)\n",
    "        break\n",
    "    min1 += 1        "
   ]
  },
  {
   "cell_type": "code",
   "execution_count": 8,
   "id": "ac5f7c37",
   "metadata": {},
   "outputs": [],
   "source": [
    "#2. Write a Python Program to Find HCF?"
   ]
  },
  {
   "cell_type": "code",
   "execution_count": 13,
   "id": "f0f11ab4",
   "metadata": {},
   "outputs": [
    {
     "name": "stdout",
     "output_type": "stream",
     "text": [
      "54\n",
      "24\n",
      "HCF of the numbers is : 6\n"
     ]
    }
   ],
   "source": [
    "#3. Write a Python Program to Convert Decimal to Binary, Octal and Hexadecimal?\n",
    "c = int(input())\n",
    "d = int(input())\n",
    "\n",
    "if c>d :\n",
    "    min1 = c\n",
    "else:\n",
    "    min1 = d\n",
    "\n",
    "for i in range(1,min1+1):\n",
    "    if((c%i == 0 and d%i == 0)):\n",
    "        hcf = i\n",
    "print(\"HCF of the numbers is :\" , hcf)\n",
    "    "
   ]
  },
  {
   "cell_type": "code",
   "execution_count": 12,
   "id": "b092a45c",
   "metadata": {},
   "outputs": [],
   "source": [
    "#3. Write a Python Program to Convert Decimal to Binary, Octal and Hexadecimal?"
   ]
  },
  {
   "cell_type": "code",
   "execution_count": null,
   "id": "bfa945c7",
   "metadata": {},
   "outputs": [],
   "source": [
    "c = int(input())\n",
    "\n",
    "bin=[]\n",
    "\n",
    "while(c>=1): \n",
    "    bin.append(c%2)\n",
    "print(bin)"
   ]
  },
  {
   "cell_type": "code",
   "execution_count": 3,
   "id": "493a2542",
   "metadata": {},
   "outputs": [
    {
     "name": "stdout",
     "output_type": "stream",
     "text": [
      "Enter a numberto convert into binary: 100\n",
      "The binary representation is  0b1100100\n",
      "The Hexadecimal representation is  0x64\n",
      "The Octa representation is  0o144\n"
     ]
    }
   ],
   "source": [
    "number = int(input(\"Enter a numberto convert into binary: \"))\n",
    "\n",
    "print(\"The binary representation is \",bin(number))\n",
    "print(\"The Hexadecimal representation is \",hex(number))\n",
    "print(\"The Octa representation is \",oct(number))"
   ]
  },
  {
   "cell_type": "code",
   "execution_count": 6,
   "id": "4f059ec7",
   "metadata": {},
   "outputs": [
    {
     "name": "stdout",
     "output_type": "stream",
     "text": [
      "Enter a decimal number \n",
      "100\n",
      "1100100"
     ]
    }
   ],
   "source": [
    "def dectobin(decimal):\n",
    "    if(decimal > 0):\n",
    "        dectobin((int)(decimal/2))\n",
    "        print(decimal%2, end='')\n",
    "        \n",
    "decimal = int(input(\"Enter a decimal number \\n\"))\n",
    "dectobin(decimal)"
   ]
  },
  {
   "cell_type": "code",
   "execution_count": 5,
   "id": "25684bb3",
   "metadata": {},
   "outputs": [
    {
     "name": "stdout",
     "output_type": "stream",
     "text": [
      "Enter a charactor to convert into Ascii: a\n",
      "Ascii value of the charactor is :  97\n"
     ]
    }
   ],
   "source": [
    "#4. Write a Python Program To Find ASCII value of a character?\n",
    "\n",
    "string = str(input(\"Enter a charactor to convert into Ascii: \"))\n",
    "\n",
    "print(\"Ascii value of the charactor is : \" , ord(string))"
   ]
  },
  {
   "cell_type": "code",
   "execution_count": 6,
   "id": "dc9e2917",
   "metadata": {},
   "outputs": [
    {
     "name": "stdout",
     "output_type": "stream",
     "text": [
      "Enter a charactor to convert into Ascii: b\n",
      "Ascii value of the charactor is :  98\n"
     ]
    }
   ],
   "source": [
    "string = str(input(\"Enter a charactor to convert into Ascii: \"))\n",
    "\n",
    "print(\"Ascii value of the charactor is : \" , ord(string))"
   ]
  },
  {
   "cell_type": "code",
   "execution_count": 7,
   "id": "7cf233f1",
   "metadata": {},
   "outputs": [],
   "source": [
    "#5. Write a Python Program to Make a Simple Calculator with 4 basic mathematical operations?"
   ]
  },
  {
   "cell_type": "code",
   "execution_count": 11,
   "id": "0350eb15",
   "metadata": {},
   "outputs": [
    {
     "name": "stdout",
     "output_type": "stream",
     "text": [
      "5\n",
      "6\n",
      "Enter + for addition : \n",
      "Enter - for Subtraction :\n",
      "Enter * for multiplication :\n",
      "Enter / for division : -\n",
      "5.0 - 6.0 = -1.0\n"
     ]
    }
   ],
   "source": [
    "num1 = float(input())\n",
    "num2 = float(input())\n",
    "\n",
    "operation = input(\"Enter + for addition : \\nEnter - for Subtraction :\\nEnter * for multiplication :\\nEnter / for division : \")\n",
    "\n",
    "add = num1 + num2\n",
    "sub = num1 - num2\n",
    "mul = num1 * num2\n",
    "\n",
    "\n",
    "if operation == \"+\":\n",
    "    print(\"{} + {} = {}\".format(num1,num2,add))\n",
    "elif operation == \"-\":\n",
    "    print(\"{} - {} = {}\".format(num1,num2,sub))\n",
    "elif operation == \"*\":\n",
    "    print(\"{} * {} = {}\".format(num1,num2,mul))\n",
    "elif operation == \"/\":\n",
    "    if num1 == 0 or num2 == 0:\n",
    "        print(\"Division with zero is not possible\")\n",
    "    else:\n",
    "        div = num1 / num2\n",
    "        print(\"{} / {} = {}\".format(num1,num2,div))\n",
    "else:\n",
    "    print(\"Invalid input\")"
   ]
  },
  {
   "cell_type": "code",
   "execution_count": null,
   "id": "65fce530",
   "metadata": {},
   "outputs": [],
   "source": []
  }
 ],
 "metadata": {
  "kernelspec": {
   "display_name": "Python 3 (ipykernel)",
   "language": "python",
   "name": "python3"
  },
  "language_info": {
   "codemirror_mode": {
    "name": "ipython",
    "version": 3
   },
   "file_extension": ".py",
   "mimetype": "text/x-python",
   "name": "python",
   "nbconvert_exporter": "python",
   "pygments_lexer": "ipython3",
   "version": "3.9.12"
  }
 },
 "nbformat": 4,
 "nbformat_minor": 5
}
